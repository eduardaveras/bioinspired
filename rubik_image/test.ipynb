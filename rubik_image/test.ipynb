{
 "cells": [
  {
   "cell_type": "code",
   "execution_count": 1,
   "metadata": {},
   "outputs": [],
   "source": [
    "from utils import *"
   ]
  },
  {
   "cell_type": "code",
   "execution_count": 2,
   "metadata": {},
   "outputs": [
    {
     "data": {
      "image/png": "[encoded data removed]",
      "text/plain": [
       "<PIL.Image.Image image mode=L size=225x225>"
      ]
     },
     "metadata": {},
     "output_type": "display_data"
    },
    {
     "data": {
      "image/png": "[encoded data removed]",
      "text/plain": [
       "<PIL.Image.Image image mode=L size=50x50>"
      ]
     },
     "metadata": {},
     "output_type": "display_data"
    },
    {
     "data": {
      "text/plain": [
       "50"
      ]
     },
     "metadata": {},
     "output_type": "display_data"
    },
    {
     "data": {
      "text/plain": [
       "array([[184, 203, 222, ..., 192, 193, 194],\n",
       "       [187, 204, 218, ..., 190, 194, 194],\n",
       "       [191, 189, 185, ..., 191, 194, 193],\n",
       "       ...,\n",
       "       [226, 225, 224, ..., 221, 222, 221],\n",
       "       [226, 224, 222, ..., 221, 222, 224],\n",
       "       [226, 225, 225, ..., 224, 224, 225]], dtype=uint8)"
      ]
     },
     "metadata": {},
     "output_type": "display_data"
    }
   ],
   "source": [
    "image = load_image('./images/gatinfei.jpeg')\n",
    "# display_image(image)\n",
    "\n",
    "# cubed_image = cubed_image(image, 200, 4)\n",
    "# Convert to hsv\n",
    "pixeled_image = image_to_gray_pixels(image, 200, 4)\n",
    "# display_image(cubed_image)\n",
    "# resize image keeping pixel size\n",
    "display_image(cv2.resize(pixeled_image, (image.shape[1], image.shape[0]), interpolation=cv2.INTER_AREA))\n",
    "\n",
    "display_image(pixeled_image)\n",
    "display(len(pixeled_image))\n",
    "display(pixeled_image)\n"
   ]
  },
  {
   "cell_type": "code",
   "execution_count": 4,
   "metadata": {},
   "outputs": [
    {
     "data": {
      "image/png": "[encoded data removed]",
      "text/plain": [
       "<PIL.Image.Image image mode=RGB size=150x150>"
      ]
     },
     "metadata": {},
     "output_type": "display_data"
    },
    {
     "data": {
      "text/plain": [
       "array([[255,  29, 149],\n",
       "       [ 76, 178, 125],\n",
       "       [255, 255, 255]], dtype=uint8)"
      ]
     },
     "metadata": {},
     "output_type": "display_data"
    },
    {
     "data": {
      "image/png": "[encoded data removed]",
      "text/plain": [
       "<PIL.Image.Image image mode=L size=50x50>"
      ]
     },
     "metadata": {},
     "output_type": "display_data"
    }
   ],
   "source": [
    "from utils import *\n",
    "import rubikGA\n",
    "\n",
    "image_path = './images/gatinfei.jpeg'\n",
    "\n",
    "ga = rubikGA.GA(image_path)\n",
    "ind = rubikGA.Individual(ga)\n",
    "\n",
    "ind.random_init()\n",
    "cube = ind.cubes[0].map = [[0, 1, 2], [3, 4, 5], [0, 0, 0]]\n",
    "display_image(ind.cubes[0].image(50, 2))\n",
    "display(ind.cubes[0].gray_array())\n",
    "# display_image(ind.cubes[1].image(50, 2))\n",
    "# display_image(ind.cubes[2].image(50, 2))\n",
    "# display_image(ind.cubes[3].image(50, 2))\n",
    "# display_image(ind.cubes[4].image(50, 2))\n",
    "# display_image(ind.cubes[5].image(50, 2))\n",
    "# display_image(ind.cubes[0].gray_array())\n",
    "# Convert ind.cubes[0].image(50,2) to grayscale\n"
   ]
  },
  {
   "cell_type": "code",
   "execution_count": null,
   "metadata": {},
   "outputs": [],
   "source": []
  }
 ],
 "metadata": {
  "kernelspec": {
   "display_name": "base",
   "language": "python",
   "name": "python3"
  },
  "language_info": {
   "codemirror_mode": {
    "name": "ipython",
    "version": 3
   },
   "file_extension": ".py",
   "mimetype": "text/x-python",
   "name": "python",
   "nbconvert_exporter": "python",
   "pygments_lexer": "ipython3",
   "version": "3.11.4"
  },
  "orig_nbformat": 4
 },
 "nbformat": 4,
 "nbformat_minor": 2
}
