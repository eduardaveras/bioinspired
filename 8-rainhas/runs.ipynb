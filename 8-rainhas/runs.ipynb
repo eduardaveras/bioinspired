{
 "cells": [
  {
   "attachments": {},
   "cell_type": "markdown",
   "metadata": {},
   "source": [
    "- [ ] Em quantas execuções o algoritmo convergiu (n o /30 execuções);\n",
    "- [ ] Em que iteração o algoritmo convergiu (média e desvio padrão);\n",
    "- [ ] Número de indivíduos que convergiram por execução;\n",
    "- [ ] Fitness médio da população em cada uma das 30 execuções;\n",
    "- [ ] Colocar gráficos de convergência com a média e o melhor indivíduo por iteração;\n",
    "- [ ] Fitness médio alcançado nas 30 execuções (média e desvio padrão);\n",
    "- [ ] Análise adicional: Quantas iterações são necessárias para toda a população convergir?"
   ]
  },
  {
   "cell_type": "code",
   "execution_count": null,
   "metadata": {},
   "outputs": [],
   "source": [
    "import matplotlib as plt \n",
    "import genetic as g\n",
    "import board as eightqueens\n",
    "\n",
    "import sys, os\n",
    "\n",
    "# Disable\n",
    "def outputPrint():\n",
    "    sys.stdout = open('output', 'w')\n",
    "\n",
    "def blockPrint():\n",
    "    sys.stdout = open(os.devnull, 'w')\n",
    "\n",
    "# Restore\n",
    "def enablePrint():\n",
    "    sys.stdout = sys.__stdout__"
   ]
  },
  {
   "cell_type": "code",
   "execution_count": 13,
   "metadata": {},
   "outputs": [
    {
     "ename": "AttributeError",
     "evalue": "module 'genetic' has no attribute 'solution_was_found'",
     "output_type": "error",
     "traceback": [
      "\u001b[0;31m---------------------------------------------------------------------------\u001b[0m",
      "\u001b[0;31mAttributeError\u001b[0m                            Traceback (most recent call last)",
      "Cell \u001b[0;32mIn[13], line 11\u001b[0m\n\u001b[1;32m      9\u001b[0m     blockPrint()\n\u001b[1;32m     10\u001b[0m     alg\u001b[39m.\u001b[39mrun()\n\u001b[0;32m---> 11\u001b[0m     \u001b[39mif\u001b[39;00m g\u001b[39m.\u001b[39;49msolution_was_found:\n\u001b[1;32m     12\u001b[0m         found_solution \u001b[39m+\u001b[39m\u001b[39m=\u001b[39m \u001b[39m1\u001b[39m \n\u001b[1;32m     14\u001b[0m enablePrint()\n",
      "\u001b[0;31mAttributeError\u001b[0m: module 'genetic' has no attribute 'solution_was_found'"
     ]
    }
   ],
   "source": [
    "# Em quantas execuções o algoritmo convergiu (n o /30 execuções)\n",
    "n_runs = 30 \n",
    "new_indiv_func = eightqueens.new_board\n",
    "runs = []\n",
    "found_solution = 0\n",
    "\n",
    "for r in range(0, n_runs):\n",
    "    alg = g.Genetic(8, new_indiv_func)\n",
    "    blockPrint()\n",
    "    alg.run()\n",
    "    if alg.solution_was_found:\n",
    "        found_solution += 1 \n",
    "\n",
    "enablePrint()\n",
    "found_solution\n"
   ]
  },
  {
   "cell_type": "code",
   "execution_count": null,
   "metadata": {},
   "outputs": [],
   "source": [
    "# Em que iteração o algoritmo convergiu (média e desvio padrão)"
   ]
  },
  {
   "cell_type": "code",
   "execution_count": null,
   "metadata": {},
   "outputs": [],
   "source": [
    "# Número de indivíduos que convergiram por execução"
   ]
  },
  {
   "cell_type": "code",
   "execution_count": null,
   "metadata": {},
   "outputs": [],
   "source": [
    "# Fitness médio da população em cada uma das 30 execuções"
   ]
  },
  {
   "cell_type": "code",
   "execution_count": null,
   "metadata": {},
   "outputs": [],
   "source": [
    "# Colocar gráficos de convergência com a média e o melhor indivíduo por iteração"
   ]
  },
  {
   "cell_type": "code",
   "execution_count": null,
   "metadata": {},
   "outputs": [],
   "source": [
    "# Fitness médio alcançado nas 30 execuções (média e desvio padrão)"
   ]
  },
  {
   "cell_type": "code",
   "execution_count": null,
   "metadata": {},
   "outputs": [],
   "source": [
    "# Análise adicional: Quantas iterações são necessárias para toda a população convergir?"
   ]
  }
 ],
 "metadata": {
  "kernelspec": {
   "display_name": "Python 3",
   "language": "python",
   "name": "python3"
  },
  "language_info": {
   "codemirror_mode": {
    "name": "ipython",
    "version": 3
   },
   "file_extension": ".py",
   "mimetype": "text/x-python",
   "name": "python",
   "nbconvert_exporter": "python",
   "pygments_lexer": "ipython3",
   "version": "3.11.4"
  },
  "orig_nbformat": 4
 },
 "nbformat": 4,
 "nbformat_minor": 2
}
