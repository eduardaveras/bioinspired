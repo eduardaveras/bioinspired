{
 "cells": [
  {
   "attachments": {},
   "cell_type": "markdown",
   "metadata": {},
   "source": [
    "- [x] Em quantas execuções o algoritmo convergiu (n o /30 execuções);\n",
    "- [x] Em que iteração o algoritmo convergiu (média e desvio padrão);\n",
    "- [ ] Número de indivíduos que convergiram por execução;\n",
    "- [ ] Fitness médio da população em cada uma das 30 execuções;\n",
    "- [ ] Colocar gráficos de convergência com a média e o melhor indivíduo por iteração;\n",
    "- [ ] Fitness médio alcançado nas 30 execuções (média e desvio padrão);\n",
    "- [ ] Análise adicional: Quantas iterações são necessárias para toda a população convergir?"
   ]
  },
  {
   "cell_type": "code",
   "execution_count": 1,
   "metadata": {},
   "outputs": [],
   "source": [
    "from matplotlib import pyplot as plt\n",
    "import genetic as g\n",
    "import board as eightqueens\n",
    "import pygments\n",
    "\n",
    "import sys, os\n",
    "\n",
    "# Disable\n",
    "def outputPrint():\n",
    "    sys.stdout = open('output', 'w')\n",
    "\n",
    "def blockPrint():\n",
    "    sys.stdout = open(os.devnull, 'w')\n",
    "\n",
    "# Restore\n",
    "def enablePrint():\n",
    "    sys.stdout = sys.__stdout__"
   ]
  },
  {
   "cell_type": "code",
   "execution_count": 2,
   "metadata": {},
   "outputs": [],
   "source": [
    "# Plot para apenas uma execução\n",
    "new_indiv_func = eightqueens.new_board\n",
    "\n",
    "alg = g.Genetic(8, new_indiv_func)\n",
    "blockPrint()\n",
    "alg.run()\n",
    "\n",
    "fitness_total = 0\n",
    "sum_of_squared_differences = 0\n",
    "\n",
    "for p in alg.population:\n",
    "    fitness_total += p.fitness\n",
    "\n",
    "mean_fitness = fitness_total / alg.population_size\n",
    "\n",
    "for p in alg.population:\n",
    "    sum_of_squared_differences += (p.fitness - mean_fitness) ** 2\n",
    "\n",
    "variance = sum_of_squared_differences / alg.population_size\n",
    "std_dev_fitness = variance ** 0.5"
   ]
  },
  {
   "cell_type": "code",
   "execution_count": null,
   "metadata": {},
   "outputs": [],
   "source": [
    "# Em quantas execuções o algoritmo convergiu (n o /30 execuções)\n",
    "# Fitness médio alcançado nas 30 execuções (média e desvio padrão)\n",
    "# Em que iteração o algoritmo convergiu (média e desvio padrão)\n",
    "\n",
    "n_runs = 30 \n",
    "new_indiv_func = eightqueens.new_board\n",
    "\n",
    "runs = []\n",
    "mean_fitness = []\n",
    "std_dev_fitness = []\n",
    "found_solution = 0\n",
    "\n",
    "iteration_number = []\n",
    "\n",
    "for r in range(0, n_runs):\n",
    "    alg = g.Genetic(8, new_indiv_func)\n",
    "    blockPrint()\n",
    "    alg.run()\n",
    "    if alg.solution_was_found:\n",
    "        found_solution += 1 \n",
    "    iteration_number.append(alg.iterations)\n",
    "    \n",
    "    # calculate mean fitness\n",
    "    fitness_total = 0\n",
    "    sum_of_squared_differences = 0\n",
    "    for p in alg.population:\n",
    "        fitness_total += p.fitness\n",
    "        sum_of_squared_differences += (p.fitness - fitness_total/alg.population_size)**2\n",
    "\n",
    "    std_dev_fitness.append((sum_of_squared_differences/alg.population_size)**(1/2))\n",
    "    mean_fitness.append(fitness_total/alg.population_size)\n",
    "\n",
    "enablePrint()\n",
    "found_solution\n",
    " "
   ]
  },
  {
   "cell_type": "code",
   "execution_count": null,
   "metadata": {},
   "outputs": [],
   "source": [
    "# media do numero de iterações\n",
    "plt.plot(range(0, n_runs), iteration_number)\n",
    "plt.xlabel('Run')\n",
    "plt.ylabel('Iteration')\n",
    "# set y size\n",
    "plt.rcParams[\"figure.figsize\"] = (15,10)\n",
    "# plot a line of the mean of interation_number\n",
    "mean = sum(iteration_number)/len(iteration_number)\n",
    "rounded_mean = round(mean, 2)\n",
    "plt.plot(range(0, n_runs), [rounded_mean]*n_runs, 'r--')\n",
    "plt.text(0, rounded_mean, str(rounded_mean), ha='center', va='bottom', color='red')\n",
    "\n",
    "for x, y in zip(range(0, n_runs), iteration_number):\n",
    "    plt.text(x, y, str(y), ha='center', va='bottom')\n",
    "\n",
    "plt.grid()\n",
    "plt.show()"
   ]
  },
  {
   "cell_type": "code",
   "execution_count": null,
   "metadata": {},
   "outputs": [],
   "source": [
    "# Fitness medio por execução\n",
    "plt.plot(range(0, n_runs), mean_fitness)\n",
    "plt.xlabel('Run')\n",
    "plt.ylabel('Mean Fitness')\n",
    "plt.rcParams[\"figure.figsize\"] = (15,10)\n",
    "mean = sum(mean_fitness)/len(mean_fitness)\n",
    "rounded_mean = round(mean, 2)\n",
    "# Plot the mean of the mean_fitess as a line\n",
    "plt.plot(range(0, n_runs), [rounded_mean]*n_runs, 'r--')\n",
    "plt.text(0, rounded_mean, str(rounded_mean), ha='center', va='bottom', color='red')\n",
    "\n",
    "for x, y in zip(range(0, n_runs), mean_fitness):\n",
    "    plt.text(x, y, str(y), ha='center', va='bottom')\n",
    "\n",
    "plt.grid()\n",
    "plt.show()\n"
   ]
  },
  {
   "cell_type": "code",
   "execution_count": null,
   "metadata": {},
   "outputs": [],
   "source": [
    "# Desvio padrão do fitness por execução\n",
    "plt.plot(range(0, n_runs), std_dev_fitness)\n",
    "plt.xlabel('Run')\n",
    "plt.ylabel('Standard Deviation of Fitness')\n",
    "plt.rcParams[\"figure.figsize\"] = (15,10)    \n",
    "mean = sum(std_dev_fitness)/len(std_dev_fitness)    \n",
    "rounded_mean = round(mean, 2)       \n",
    "plt.plot(range(0, n_runs), [rounded_mean]*n_runs, 'r--')    \n",
    "plt.text(0, rounded_mean, str(rounded_mean), ha='center', va='bottom', color='red')\n",
    "# for x, y in zip(range(0, n_runs), std_dev_fitness):\n",
    "#     plt.text(x, y, str(y), ha='center', va='bottom')\n",
    "plt.grid()\n",
    "plt.show()"
   ]
  },
  {
   "cell_type": "code",
   "execution_count": null,
   "metadata": {},
   "outputs": [],
   "source": [
    "# Desvio padrão do numero de iterações do iteration_number\n",
    "# iteration_number std dev\n",
    "std_per_iteration = []\n",
    "sum_of_squared_differences = 0\n",
    "mean = sum(iteration_number)/len(iteration_number)\n",
    "for i in iteration_number: \n",
    "    sum_of_squared_differences += (i - mean)**2 \n",
    "    std = (sum_of_squared_differences/len(iteration_number))**(1/2)                                                                                                                      \n",
    "    std_per_iteration.append(std)\n",
    "\n",
    "#plot \n",
    "plt.plot(range(0, n_runs), std_per_iteration)\n",
    "plt.xlabel('Run')\n",
    "plt.ylabel('Standard Deviation of Iteration Number')\n",
    "plt.rcParams[\"figure.figsize\"] = (15,10)\n",
    "plt.plot(range(0, n_runs), [std]*n_runs, 'r--')\n",
    "plt.text(0, std, str(std), ha='center', va='bottom', color='red')\n",
    "plt.grid()\n",
    "plt.show()\n",
    "\n",
    "\n"
   ]
  },
  {
   "cell_type": "code",
   "execution_count": null,
   "metadata": {},
   "outputs": [],
   "source": [
    "# Fitness médio da população em cada uma das 30 execuções"
   ]
  },
  {
   "cell_type": "code",
   "execution_count": null,
   "metadata": {},
   "outputs": [],
   "source": [
    "# Colocar gráficos de convergência com a média e o melhor indivíduo por iteração"
   ]
  },
  {
   "cell_type": "code",
   "execution_count": null,
   "metadata": {},
   "outputs": [],
   "source": [
    "# Análise adicional: Quantas iterações são necessárias para toda a população convergir?"
   ]
  }
 ],
 "metadata": {
  "kernelspec": {
   "display_name": "Python 3",
   "language": "python",
   "name": "python3"
  },
  "language_info": {
   "codemirror_mode": {
    "name": "ipython",
    "version": 3
   },
   "file_extension": ".py",
   "mimetype": "text/x-python",
   "name": "python",
   "nbconvert_exporter": "python",
   "pygments_lexer": "ipython3",
   "version": "3.11.2"
  },
  "orig_nbformat": 4
 },
 "nbformat": 4,
 "nbformat_minor": 2
}
