{
 "cells": [
  {
   "cell_type": "code",
   "execution_count": 1,
   "metadata": {},
   "outputs": [],
   "source": [
    "import json\n",
    "from utils import *\n",
    "from run import run_, DEFAULT_ARGS"
   ]
  },
  {
   "cell_type": "code",
   "execution_count": 2,
   "metadata": {},
   "outputs": [
    {
     "data": {
      "text/plain": [
       "'11 solutions of 30 were found in 12.47 seconds'"
      ]
     },
     "metadata": {},
     "output_type": "display_data"
    }
   ],
   "source": [
    "\"\"\"\n",
    "First run with default parameters\n",
    "\"dna_size\": 8, \n",
    "\"population_size\": 100, \n",
    "\"gene_set\": \"01\", \n",
    "\"max_iterations\": 10000,\n",
    "\"parent_method\": \"tournament\", \n",
    "\"survivor_method\": \"best\",\n",
    "\"recombination_method\": \"cutandfill\", \n",
    "\"recombination_probability\": 0.9, \n",
    "\"mutation_method\": \"single\",\n",
    "\"mutation_probability\": 0.4 \n",
    "\"\"\"\n",
    "\n",
    "args = DEFAULT_ARGS \n",
    "filename_ = \"default\"\n",
    "\n",
    "run_(args, filename=filename_, n_runs=30)"
   ]
  },
  {
   "cell_type": "code",
   "execution_count": 9,
   "metadata": {},
   "outputs": [
    {
     "data": {
      "text/plain": [
       "'12 solutions of 30 were found in 13.98 seconds'"
      ]
     },
     "metadata": {},
     "output_type": "display_data"
    }
   ],
   "source": [
    "\"\"\"\n",
    "Run\n",
    "Changing \n",
    "\"parent_method\": \"spinwheel\", \n",
    "\"survivor_method\": \"best\",\n",
    "\"recombination_method\": \"cutandfill\", \n",
    "\"\"\"\n",
    "\n",
    "args = DEFAULT_ARGS\n",
    "filename_ = \"run_default_spinwheel\"\n",
    "args[\"parent_method\"] = \"spinwheel\"\n",
    "args[\"mutation_method\"] = \"double\"\n",
    "args[\"mutation_probability\"] = 0.6\n",
    "\n",
    "run_(args, filename=filename_)\n"
   ]
  }
 ],
 "metadata": {
  "kernelspec": {
   "display_name": "base",
   "language": "python",
   "name": "python3"
  },
  "language_info": {
   "codemirror_mode": {
    "name": "ipython",
    "version": 3
   },
   "file_extension": ".py",
   "mimetype": "text/x-python",
   "name": "python",
   "nbconvert_exporter": "python",
   "pygments_lexer": "ipython3",
   "version": "3.9.12"
  },
  "orig_nbformat": 4
 },
 "nbformat": 4,
 "nbformat_minor": 2
}
