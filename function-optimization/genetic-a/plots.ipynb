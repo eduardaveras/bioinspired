{
 "cells": [
  {
   "cell_type": "code",
   "execution_count": 9,
   "metadata": {},
   "outputs": [],
   "source": [
    "import json\n",
    "from utils import *\n",
    "from run import run_, DEFAULT_ARGS\n",
    "import matplotlib.pyplot as plt\n",
    "import numpy as np"
   ]
  },
  {
   "cell_type": "code",
   "execution_count": 10,
   "metadata": {},
   "outputs": [
    {
     "ename": "OverflowError",
     "evalue": "(34, 'Result too large')",
     "output_type": "error",
     "traceback": [
      "\u001b[0;31m---------------------------------------------------------------------------\u001b[0m",
      "\u001b[0;31mOverflowError\u001b[0m                             Traceback (most recent call last)",
      "Cell \u001b[0;32mIn[10], line 8\u001b[0m\n\u001b[1;32m      5\u001b[0m args[\u001b[39m\"\u001b[39m\u001b[39mmutation_probability\u001b[39m\u001b[39m\"\u001b[39m] \u001b[39m=\u001b[39m \u001b[39m0.7\u001b[39m\n\u001b[1;32m      6\u001b[0m filename_ \u001b[39m=\u001b[39m \u001b[39m\"\u001b[39m\u001b[39mgenetic-a\u001b[39m\u001b[39m\"\u001b[39m\n\u001b[0;32m----> 8\u001b[0m run_(args, filename\u001b[39m=\u001b[39;49mfilename_, n_runs\u001b[39m=\u001b[39;49m\u001b[39m1\u001b[39;49m)\n\u001b[1;32m      9\u001b[0m display(args)\n",
      "File \u001b[0;32m~/Repos/bioinspired/function-optimization/genetic-a/run.py:37\u001b[0m, in \u001b[0;36mrun_\u001b[0;34m(args, filename, n_runs)\u001b[0m\n\u001b[1;32m     35\u001b[0m outputPrint(filename)\n\u001b[1;32m     36\u001b[0m alg \u001b[39m=\u001b[39m g\u001b[39m.\u001b[39mGenetic(\u001b[39m*\u001b[39m\u001b[39m*\u001b[39margs)\n\u001b[0;32m---> 37\u001b[0m alg\u001b[39m.\u001b[39;49mrun()\n\u001b[1;32m     39\u001b[0m it \u001b[39m=\u001b[39m alg\u001b[39m.\u001b[39miterations\n\u001b[1;32m     40\u001b[0m \u001b[39mif\u001b[39;00m it \u001b[39m==\u001b[39m \u001b[39m0\u001b[39m:\n",
      "File \u001b[0;32m~/Repos/bioinspired/function-optimization/genetic-a/genetic.py:89\u001b[0m, in \u001b[0;36mGenetic.run\u001b[0;34m(self)\u001b[0m\n\u001b[1;32m     86\u001b[0m \u001b[39mself\u001b[39m\u001b[39m.\u001b[39mpopulation\u001b[39m.\u001b[39mappend(indiv)\n\u001b[1;32m     87\u001b[0m \u001b[39mif\u001b[39;00m random\u001b[39m.\u001b[39mchoices([\u001b[39mTrue\u001b[39;00m, \u001b[39mFalse\u001b[39;00m], weights\u001b[39m=\u001b[39m[\u001b[39mself\u001b[39m\u001b[39m.\u001b[39mmutation_probability, \u001b[39m1\u001b[39m\u001b[39m-\u001b[39m\u001b[39mself\u001b[39m\u001b[39m.\u001b[39mmutation_probability], k\u001b[39m=\u001b[39m\u001b[39m1\u001b[39m)[\u001b[39m0\u001b[39m]:\n\u001b[1;32m     88\u001b[0m     \u001b[39m# Mutating\u001b[39;00m\n\u001b[0;32m---> 89\u001b[0m     indiv_mutated \u001b[39m=\u001b[39m \u001b[39mself\u001b[39;49m\u001b[39m.\u001b[39;49mmutate_non_uniform(indiv, \u001b[39mself\u001b[39;49m\u001b[39m.\u001b[39;49mmax_gen)\n\u001b[1;32m     90\u001b[0m     \u001b[39m# if(indiv_mutated.fitness() < indiv.fitness()):\u001b[39;00m\n\u001b[1;32m     91\u001b[0m     \u001b[39mself\u001b[39m\u001b[39m.\u001b[39mswitch_indiv(indiv, indiv_mutated)\n",
      "File \u001b[0;32m~/Repos/bioinspired/function-optimization/genetic-a/genetic.py:139\u001b[0m, in \u001b[0;36mGenetic.mutate_non_uniform\u001b[0;34m(self, individual, max_gen, b)\u001b[0m\n\u001b[1;32m    137\u001b[0m t \u001b[39m=\u001b[39m \u001b[39mself\u001b[39m\u001b[39m.\u001b[39miterations \u001b[39m/\u001b[39m max_gen\n\u001b[1;32m    138\u001b[0m index \u001b[39m=\u001b[39m random\u001b[39m.\u001b[39mrandint(\u001b[39m0\u001b[39m, \u001b[39mlen\u001b[39m(individual\u001b[39m.\u001b[39mX) \u001b[39m-\u001b[39m \u001b[39m1\u001b[39m)\n\u001b[0;32m--> 139\u001b[0m delta \u001b[39m=\u001b[39m (individual\u001b[39m.\u001b[39mfunction\u001b[39m.\u001b[39mbounds[\u001b[39m1\u001b[39m] \u001b[39m-\u001b[39m individual\u001b[39m.\u001b[39mfunction\u001b[39m.\u001b[39mbounds[\u001b[39m0\u001b[39m]) \u001b[39m*\u001b[39m (\u001b[39m1\u001b[39m \u001b[39m-\u001b[39m np\u001b[39m.\u001b[39;49mrandom\u001b[39m.\u001b[39;49mrand()\u001b[39m*\u001b[39;49m\u001b[39m*\u001b[39;49m(\u001b[39m1\u001b[39;49m \u001b[39m-\u001b[39;49m t)\u001b[39m*\u001b[39;49m\u001b[39m*\u001b[39;49mb)\n\u001b[1;32m    140\u001b[0m \u001b[39mif\u001b[39;00m random\u001b[39m.\u001b[39mrandom() \u001b[39m<\u001b[39m \u001b[39m0.5\u001b[39m:\n\u001b[1;32m    141\u001b[0m     individual\u001b[39m.\u001b[39mX[index] \u001b[39m-\u001b[39m\u001b[39m=\u001b[39m delta\n",
      "\u001b[0;31mOverflowError\u001b[0m: (34, 'Result too large')"
     ]
    }
   ],
   "source": [
    "args = DEFAULT_ARGS\n",
    "args[\"max_gen\"] = args[\"max_iterations\"]\n",
    "args[\"pair_children_size\"] = 5\n",
    "args[\"population_size\"] = 2000\n",
    "args[\"mutation_probability\"] = 0.7\n",
    "filename_ = \"genetic-a\"\n",
    "\n",
    "run_(args, filename=filename_, n_runs=1)\n",
    "display(args)"
   ]
  }
 ],
 "metadata": {
  "kernelspec": {
   "display_name": "Python 3",
   "language": "python",
   "name": "python3"
  },
  "language_info": {
   "codemirror_mode": {
    "name": "ipython",
    "version": 3
   },
   "file_extension": ".py",
   "mimetype": "text/x-python",
   "name": "python",
   "nbconvert_exporter": "python",
   "pygments_lexer": "ipython3",
   "version": "3.11.4"
  },
  "orig_nbformat": 4
 },
 "nbformat": 4,
 "nbformat_minor": 2
}
