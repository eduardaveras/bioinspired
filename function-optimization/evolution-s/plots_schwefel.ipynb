{
 "cells": [
  {
   "cell_type": "code",
   "execution_count": null,
   "metadata": {},
   "outputs": [],
   "source": [
    "import json\n",
    "from utils import *\n",
    "from run import run_, RASTRIGIN_ARGS, ROSENBROCK_ARGS, ACKLEY_ARGS, SCHWEFEL_ARGS\n",
    "import matplotlib.pyplot as plt\n",
    "import numpy as np"
   ]
  },
  {
   "cell_type": "code",
   "execution_count": null,
   "metadata": {},
   "outputs": [],
   "source": [
    "args = SCHWEFEL_ARGS\n",
    "filename_ = \"schwefel_es\"\n",
    "\n",
    "run_(args, filename=filename_, n_runs=3)\n",
    "display(args)"
   ]
  },
  {
   "cell_type": "code",
   "execution_count": null,
   "metadata": {},
   "outputs": [],
   "source": [
    "with open(filename_ + '.json', 'r') as f:\n",
    "    data_schwefel = json.load(f)"
   ]
  },
  {
   "cell_type": "markdown",
   "metadata": {},
   "source": [
    "### Média de iterações para o algoritmo convergir"
   ]
  },
  {
   "cell_type": "code",
   "execution_count": null,
   "metadata": {},
   "outputs": [],
   "source": [
    "solutions = [i for i in data_schwefel if i[\"found_solution\"]]\n",
    "\n",
    "iterations_info = [i[\"iterations\"] for i in solutions]\n",
    "\n",
    "iterations_mean = np.mean(iterations_info)\n",
    "rounded_mean = round(iterations_mean, 2)\n",
    "\n",
    "iterations_std = np.std(iterations_info)\n",
    "rounded_std = round(iterations_std, 2)\n",
    "\n",
    "plt.figure(figsize=(10, 5))\n",
    "plt.title(\"Iterations to find solution\")\n",
    "plt.xlabel(\"Runs\")\n",
    "plt.ylabel(\"Iterations\")\n",
    "plt.ylim(1400, 2000)\n",
    "\n",
    "plt.plot(iterations_info)\n",
    "for i in range(len(iterations_info)):\n",
    "    plt.text(i, iterations_info[i], str(iterations_info[i]), ha='center', va='bottom', color='black')\n",
    "    \n",
    "# put mean as a red line\n",
    "plt.axhline(y=iterations_mean, color='r', linestyle='--')\n",
    "plt.text(-0.4, rounded_mean, \"Mean: \" + str(rounded_mean), color='r')\n",
    "\n",
    "# put std as a green line\n",
    "#plt.axhline(y=rounded_std, color='g', linestyle='--')\n",
    "plt.text(-0.4, 1775, \"Std: \" + str(rounded_std), color='g')"
   ]
  },
  {
   "cell_type": "markdown",
   "metadata": {},
   "source": [
    "### Fitness médio da população (média da média)"
   ]
  },
  {
   "cell_type": "code",
   "execution_count": null,
   "metadata": {},
   "outputs": [],
   "source": [
    "mean_fitness_per_iteration = []\n",
    "for run in data_schwefel:\n",
    "    mean_fitness_per_iteration.append(np.mean(run[\"mean_per_iteration\"]))\n",
    "    \n",
    "    \n",
    "plt.figure(figsize=(10, 5))\n",
    "plt.title(\"Mean fitness per iteration\")\n",
    "plt.bar(range(len(mean_fitness_per_iteration)), mean_fitness_per_iteration, )\n",
    "\n",
    "for i in range(len(mean_fitness_per_iteration)):\n",
    "    plt.text(i, mean_fitness_per_iteration[i], f\"{mean_fitness_per_iteration[i]:.2f}\", ha=\"center\", va=\"bottom\")\n",
    "\n",
    "plt.axhline(y=np.mean(mean_fitness_per_iteration), color=\"red\", linestyle=\"--\", label=\"Mean\")"
   ]
  },
  {
   "cell_type": "markdown",
   "metadata": {},
   "source": [
    "### Fitness médio da ultima geração"
   ]
  },
  {
   "cell_type": "code",
   "execution_count": null,
   "metadata": {},
   "outputs": [],
   "source": [
    "mean_last_pop = []\n",
    "for run in data_schwefel:\n",
    "    mean_last_pop.append(np.mean(run[\"last_population_fitness\"]))\n",
    "\n",
    "mean = np.mean(mean_last_pop)\n",
    "std = np.std(mean_last_pop)\n",
    "\n",
    "plt.figure(figsize=(10, 8))\n",
    "plt.title(\"Mean last population fitness\")\n",
    "plt.xlabel(\"Run\")\n",
    "plt.ylabel(\"Mean fitness\")\n",
    "\n",
    "plt.bar(range(len(mean_last_pop)), mean_last_pop, yerr=std, capsize=5)\n",
    "\n",
    "    \n",
    "plt.axhline(y=mean, color='r', linestyle='--')\n",
    "plt.text(-0.7, mean, \"Mean: \" + str(round(mean, 2)), ha=\"center\", color='r')"
   ]
  },
  {
   "cell_type": "markdown",
   "metadata": {},
   "source": [
    "### Gráficos de convergência"
   ]
  },
  {
   "cell_type": "code",
   "execution_count": null,
   "metadata": {},
   "outputs": [],
   "source": [
    "# max\n",
    "\n",
    "datas_max = []\n",
    "datas_max.append(max(solutions, key=lambda x: x[\"iterations\"]))\n",
    "\n",
    "fig, (ax1, ax2) = plt.subplots(2, 1, figsize=(10, 10), sharex=True)\n",
    "\n",
    "ax1.set_title(\"Mean fitness x Iterations\")\n",
    "ax1.set_ylabel(\"Mean fitness\")\n",
    "ax1.grid(True)\n",
    "\n",
    "ax2.set_ylabel(\"Mean fitness\")\n",
    "ax2.set_xlabel(\"Iterations\")\n",
    "ax2.grid(True)\n",
    "\n",
    "for i in range(len(datas_max)):\n",
    "    mean_per_iteration = datas_max[i][\"mean_per_iteration\"]\n",
    "    best_per_iteration = datas_max[i][\"best_per_iteration\"]\n",
    "    \n",
    "    ax2.plot(mean_per_iteration, color='green', label='Mean Fitness')\n",
    "    ax2.plot(best_per_iteration, color='red', label='Best Fitness')\n",
    "    \n",
    "    ax1.plot(mean_per_iteration, color='green', label='Mean Fitness')\n",
    "    ax1.plot(best_per_iteration, color='red', label='Best Fitness')\n",
    "    \n",
    "    \n",
    "    # Defina os limites do eixo y na primeira subtrama\n",
    "    ax1.set_ylim(0, 50)\n",
    "    \n",
    "    ax1.legend()  # Adicione uma legenda à primeira subtrama\n",
    "\n",
    "plt.show()"
   ]
  }
 ],
 "metadata": {
  "kernelspec": {
   "display_name": "Python 3",
   "language": "python",
   "name": "python3"
  },
  "language_info": {
   "codemirror_mode": {
    "name": "ipython",
    "version": 3
   },
   "file_extension": ".py",
   "mimetype": "text/x-python",
   "name": "python",
   "nbconvert_exporter": "python",
   "pygments_lexer": "ipython3",
   "version": "3.11.4"
  },
  "orig_nbformat": 4
 },
 "nbformat": 4,
 "nbformat_minor": 2
}
