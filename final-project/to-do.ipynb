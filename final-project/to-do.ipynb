{
 "cells": [
  {
   "cell_type": "markdown",
   "metadata": {},
   "source": [
    "### Anotações\n",
    "\n",
    "1. Como representar: Matriz\n",
    "2. Qual o tamanho da representação: \n",
    "    R: um cubo tem tamanho 9 e depois iremos programar p ficar dinâmico\n",
    "3. Como calcular o fitness\n",
    "    R: explicado\n",
    "\n",
    "### Sumário\n",
    "* Representação (genótipo): \n",
    "\n",
    "### Objetivos\n",
    "\n",
    "1. Gerar a população aleatoriamente\n",
    "2. Como fazer a mutação e recombinação\n",
    "3. "
   ]
  }
 ],
 "metadata": {
  "language_info": {
   "name": "python"
  },
  "orig_nbformat": 4
 },
 "nbformat": 4,
 "nbformat_minor": 2
}
