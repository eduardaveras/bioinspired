{
 "cells": [
  {
   "cell_type": "code",
   "execution_count": 1,
   "metadata": {},
   "outputs": [
    {
     "ename": "NameError",
     "evalue": "name 'image' is not defined",
     "output_type": "error",
     "traceback": [
      "\u001b[0;31m---------------------------------------------------------------------------\u001b[0m",
      "\u001b[0;31mNameError\u001b[0m                                 Traceback (most recent call last)",
      "Cell \u001b[0;32mIn[1], line 6\u001b[0m\n\u001b[1;32m      4\u001b[0m image \u001b[38;5;241m=\u001b[39m load_image(target_image)\n\u001b[1;32m      5\u001b[0m image_gray \u001b[38;5;241m=\u001b[39m (image_to_gray_pixels(image, \u001b[38;5;241m600\u001b[39m, \u001b[38;5;241m10\u001b[39m))\n\u001b[0;32m----> 6\u001b[0m image_gray_near \u001b[38;5;241m=\u001b[39m \u001b[43mgray_nearest\u001b[49m\u001b[43m(\u001b[49m\u001b[43mimage_gray\u001b[49m\u001b[43m)\u001b[49m\n\u001b[1;32m      7\u001b[0m \u001b[38;5;66;03m# gray_cubes = gray_image_to_cubes(image_gray)\u001b[39;00m\n\u001b[1;32m      8\u001b[0m \u001b[38;5;66;03m# image_cube = image_gray_to_image_cubes_color(image_gray)\u001b[39;00m\n\u001b[1;32m      9\u001b[0m \u001b[38;5;66;03m# display_image(image_gray_to_image_cubes_color(cubes_to_image(gray_cubes, stroke_width=1, size_times=10, stroke_color=0)))\u001b[39;00m\n\u001b[1;32m     10\u001b[0m display_image(image_gray)\n",
      "File \u001b[0;32m~/Repos/bioinspired/rubik_ga/image_utils.py:150\u001b[0m, in \u001b[0;36mgray_nearest\u001b[0;34m(image_gray)\u001b[0m\n\u001b[1;32m    148\u001b[0m         pixel \u001b[38;5;241m=\u001b[39m np\u001b[38;5;241m.\u001b[39mfull(\u001b[38;5;28mlen\u001b[39m(nearest), image_gray[i, j])\n\u001b[1;32m    149\u001b[0m         nearest_value \u001b[38;5;241m=\u001b[39m np\u001b[38;5;241m.\u001b[39margmin(np\u001b[38;5;241m.\u001b[39mabs(pixel \u001b[38;5;241m-\u001b[39m nearest))\n\u001b[0;32m--> 150\u001b[0m         \u001b[43mimage\u001b[49m[i, j] \u001b[38;5;241m=\u001b[39m nearest[nearest_value]\n\u001b[1;32m    152\u001b[0m \u001b[38;5;28;01mreturn\u001b[39;00m image\n",
      "\u001b[0;31mNameError\u001b[0m: name 'image' is not defined"
     ]
    }
   ],
   "source": [
    "\n",
    "from image_utils import *\n",
    "\n",
    "target_image = 'images/cabeca-gatinha-b.png'\n",
    "image = load_image(target_image)\n",
    "image_gray = (image_to_gray_pixels(image, 600, 10))\n",
    "image_gray_near = gray_nearest(image_gray)\n",
    "# gray_cubes = gray_image_to_cubes(image_gray)\n",
    "# image_cube = image_gray_to_image_cubes_color(image_gray)\n",
    "# display_image(image_gray_to_image_cubes_color(cubes_to_image(gray_cubes, stroke_width=1, size_times=10, stroke_color=0)))\n",
    "display_image(image_gray)\n",
    "display_image(image_cube)"
   ]
  },
  {
   "cell_type": "code",
   "execution_count": null,
   "metadata": {},
   "outputs": [],
   "source": []
  }
 ],
 "metadata": {
  "kernelspec": {
   "display_name": "Python 3 (ipykernel)",
   "language": "python",
   "name": "python3"
  },
  "language_info": {
   "codemirror_mode": {
    "name": "ipython",
    "version": 3
   },
   "file_extension": ".py",
   "mimetype": "text/x-python",
   "name": "python",
   "nbconvert_exporter": "python",
   "pygments_lexer": "ipython3",
   "version": "3.11.4"
  }
 },
 "nbformat": 4,
 "nbformat_minor": 2
}
