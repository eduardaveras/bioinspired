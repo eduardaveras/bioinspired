{
 "cells": [
  {
   "cell_type": "code",
   "execution_count": 4,
   "metadata": {},
   "outputs": [
    {
     "ename": "ValueError",
     "evalue": "cannot reshape array of size 900 into shape (15,15,3,3)",
     "output_type": "error",
     "traceback": [
      "\u001b[0;31m---------------------------------------------------------------------------\u001b[0m",
      "\u001b[0;31mValueError\u001b[0m                                Traceback (most recent call last)",
      "\u001b[1;32m/Users/marc/Repos/bioinspired/rubik_ga/animate.ipynb Cell 1\u001b[0m line \u001b[0;36m9\n\u001b[1;32m      <a href='vscode-notebook-cell:/Users/marc/Repos/bioinspired/rubik_ga/animate.ipynb#W0sZmlsZQ%3D%3D?line=5'>6</a>\u001b[0m read_filename \u001b[39m=\u001b[39m \u001b[39m\"\u001b[39m\u001b[39mruns/olha.json\u001b[39m\u001b[39m\"\u001b[39m\n\u001b[1;32m      <a href='vscode-notebook-cell:/Users/marc/Repos/bioinspired/rubik_ga/animate.ipynb#W0sZmlsZQ%3D%3D?line=6'>7</a>\u001b[0m write_filename \u001b[39m=\u001b[39m \u001b[39m\"\u001b[39m\u001b[39molha\u001b[39m\u001b[39m\"\u001b[39m\n\u001b[0;32m----> <a href='vscode-notebook-cell:/Users/marc/Repos/bioinspired/rubik_ga/animate.ipynb#W0sZmlsZQ%3D%3D?line=8'>9</a>\u001b[0m animate_cube_movements(n_cubes_x, stroke_width, size_multiply, border, read_filename, write_filename)\n",
      "File \u001b[0;32m~/Repos/bioinspired/rubik_ga/ga.py:129\u001b[0m, in \u001b[0;36manimate_cube_movements\u001b[0;34m(n_cubes_x, stroke_width, size_multiply, border, read_filename, write_filename, animation, duration)\u001b[0m\n\u001b[1;32m    126\u001b[0m \u001b[39mif\u001b[39;00m \u001b[39mlen\u001b[39m(cubes_history[i]) \u001b[39m==\u001b[39m \u001b[39m0\u001b[39m:\n\u001b[1;32m    127\u001b[0m     i \u001b[39m+\u001b[39m\u001b[39m=\u001b[39m \u001b[39m1\u001b[39m\n\u001b[0;32m--> 129\u001b[0m cubes_images \u001b[39m=\u001b[39m np\u001b[39m.\u001b[39;49marray(cubes_images)\u001b[39m.\u001b[39;49mreshape((n_cubes_x, n_cubes_x, \u001b[39m3\u001b[39;49m,\u001b[39m3\u001b[39;49m))\n\u001b[1;32m    130\u001b[0m frames\u001b[39m.\u001b[39mappend(image_gray_to_image_cubes_color(cubes_to_image(np\u001b[39m.\u001b[39marray(cubes_images), stroke_width, size_multiply, border)))\n\u001b[1;32m    131\u001b[0m \u001b[39mprint\u001b[39m(\u001b[39m\"\u001b[39m\u001b[39mFrame \u001b[39m\u001b[39m\"\u001b[39m \u001b[39m+\u001b[39m \u001b[39mstr\u001b[39m(\u001b[39mlen\u001b[39m(frames)))\n",
      "\u001b[0;31mValueError\u001b[0m: cannot reshape array of size 900 into shape (15,15,3,3)"
     ]
    }
   ],
   "source": [
    "from ga import animate_cube_movements \n",
    "n_cubes_x = 10\n",
    "stroke_width = 1\n",
    "size_multiply = 7\n",
    "border = 0\n",
    "read_filename = \"runs/olha.json\"\n",
    "write_filename = \"olha\"\n",
    "\n",
    "animate_cube_movements(n_cubes_x, stroke_width, size_multiply, border, read_filename, write_filename)\n"
   ]
  }
 ],
 "metadata": {
  "kernelspec": {
   "display_name": "base",
   "language": "python",
   "name": "python3"
  },
  "language_info": {
   "codemirror_mode": {
    "name": "ipython",
    "version": 3
   },
   "file_extension": ".py",
   "mimetype": "text/x-python",
   "name": "python",
   "nbconvert_exporter": "python",
   "pygments_lexer": "ipython3",
   "version": "3.9.12"
  },
  "orig_nbformat": 4
 },
 "nbformat": 4,
 "nbformat_minor": 2
}
