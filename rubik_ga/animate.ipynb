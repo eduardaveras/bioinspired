{
 "cells": [
  {
   "cell_type": "code",
   "execution_count": 1,
   "metadata": {},
   "outputs": [
    {
     "ename": "ImportError",
     "evalue": "cannot import name 'corresponding_gray' from partially initialized module 'image_utils' (most likely due to a circular import) (/Users/marc/Repos/bioinspired/rubik_ga/image_utils.py)",
     "output_type": "error",
     "traceback": [
      "\u001b[0;31m---------------------------------------------------------------------------\u001b[0m",
      "\u001b[0;31mImportError\u001b[0m                               Traceback (most recent call last)",
      "\u001b[1;32m/Users/marc/Repos/bioinspired/rubik_ga/animate.ipynb Cell 1\u001b[0m line \u001b[0;36m1\n\u001b[0;32m----> <a href='vscode-notebook-cell:/Users/marc/Repos/bioinspired/rubik_ga/animate.ipynb#W0sZmlsZQ%3D%3D?line=0'>1</a>\u001b[0m \u001b[39mfrom\u001b[39;00m \u001b[39mimage_utils\u001b[39;00m \u001b[39mimport\u001b[39;00m \u001b[39m*\u001b[39m\n\u001b[1;32m      <a href='vscode-notebook-cell:/Users/marc/Repos/bioinspired/rubik_ga/animate.ipynb#W0sZmlsZQ%3D%3D?line=1'>2</a>\u001b[0m n_cubes_x \u001b[39m=\u001b[39m \u001b[39m10\u001b[39m\n\u001b[1;32m      <a href='vscode-notebook-cell:/Users/marc/Repos/bioinspired/rubik_ga/animate.ipynb#W0sZmlsZQ%3D%3D?line=2'>3</a>\u001b[0m stroke_width \u001b[39m=\u001b[39m \u001b[39m1\u001b[39m\n",
      "File \u001b[0;32m~/Repos/bioinspired/rubik_ga/image_utils.py:5\u001b[0m\n\u001b[1;32m      3\u001b[0m \u001b[39mimport\u001b[39;00m \u001b[39mtime\u001b[39;00m\n\u001b[1;32m      4\u001b[0m \u001b[39mimport\u001b[39;00m \u001b[39mimageio\u001b[39;00m\n\u001b[0;32m----> 5\u001b[0m \u001b[39mfrom\u001b[39;00m \u001b[39mcube\u001b[39;00m \u001b[39mimport\u001b[39;00m Cube \u001b[39mas\u001b[39;00m c\n\u001b[1;32m      7\u001b[0m \u001b[39m# Carrega a imagem a partir de um path\u001b[39;00m\n\u001b[1;32m      8\u001b[0m \u001b[39mdef\u001b[39;00m \u001b[39mload_image\u001b[39m(path):\n",
      "File \u001b[0;32m~/Repos/bioinspired/rubik_ga/cube.py:4\u001b[0m\n\u001b[1;32m      2\u001b[0m \u001b[39mimport\u001b[39;00m \u001b[39mnumpy\u001b[39;00m \u001b[39mas\u001b[39;00m \u001b[39mnp\u001b[39;00m\n\u001b[1;32m      3\u001b[0m \u001b[39mfrom\u001b[39;00m \u001b[39mconstants\u001b[39;00m \u001b[39mimport\u001b[39;00m \u001b[39m*\u001b[39m\n\u001b[0;32m----> 4\u001b[0m \u001b[39mfrom\u001b[39;00m \u001b[39mimage_utils\u001b[39;00m \u001b[39mimport\u001b[39;00m corresponding_gray, corresponding_color, resize_pixeled, gray_nearest\n\u001b[1;32m      5\u001b[0m \u001b[39mfrom\u001b[39;00m \u001b[39mcube_utils\u001b[39;00m \u001b[39mimport\u001b[39;00m \u001b[39m*\u001b[39m\n\u001b[1;32m      6\u001b[0m \u001b[39mfrom\u001b[39;00m \u001b[39mfunctools\u001b[39;00m \u001b[39mimport\u001b[39;00m total_ordering\n",
      "\u001b[0;31mImportError\u001b[0m: cannot import name 'corresponding_gray' from partially initialized module 'image_utils' (most likely due to a circular import) (/Users/marc/Repos/bioinspired/rubik_ga/image_utils.py)"
     ]
    }
   ],
   "source": [
    "from ga import animate_cube_movements \n",
    "n_cubes_x = 10\n",
    "stroke_width = 1\n",
    "size_multiply = 5\n",
    "border = 0\n",
    "read_filename = \"runs/olha.json\"\n",
    "write_filename = \"olha\"\n",
    "\n",
    "animate_cube_movements(n_cubes_x, stroke_width, size_multiply, border, read_filename, write_filename)\n"
   ]
  }
 ],
 "metadata": {
  "kernelspec": {
   "display_name": "base",
   "language": "python",
   "name": "python3"
  },
  "language_info": {
   "codemirror_mode": {
    "name": "ipython",
    "version": 3
   },
   "file_extension": ".py",
   "mimetype": "text/x-python",
   "name": "python",
   "nbconvert_exporter": "python",
   "pygments_lexer": "ipython3",
   "version": "3.9.12"
  },
  "orig_nbformat": 4
 },
 "nbformat": 4,
 "nbformat_minor": 2
}
