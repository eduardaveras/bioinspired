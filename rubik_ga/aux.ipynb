{
 "cells": [
  {
   "cell_type": "markdown",
   "id": "57c034fb",
   "metadata": {},
   "source": [
    "## Testando imagens"
   ]
  },
  {
   "cell_type": "code",
   "execution_count": 4,
   "id": "69071fb5-a2d0-4c96-8bc0-843ebd477f2d",
   "metadata": {},
   "outputs": [
    {
     "data": {
      "image/png": "[encoded data removed]",
      "text/plain": [
       "<PIL.Image.Image image mode=L size=225x225>"
      ]
     },
     "metadata": {},
     "output_type": "display_data"
    },
    {
     "data": {
      "image/png": "[encoded data removed]",
      "text/plain": [
       "<PIL.Image.Image image mode=RGB size=300x300>"
      ]
     },
     "metadata": {},
     "output_type": "display_data"
    }
   ],
   "source": [
    "from ga import *\n",
    "\n",
    "cti = cubesToImage(n_cubes_x = 15, image_size=450)\n",
    "display_image(cubes_to_image(cti.target_cubes, stroke_width=1, size_times=5, stroke_color=40))\n",
    "display_image(resize_pixeled(cti.target_color_cubes, 300))"
   ]
  },
  {
   "cell_type": "markdown",
   "id": "93b0c7e2",
   "metadata": {},
   "source": [
    "### Cubos para imagem"
   ]
  },
  {
   "cell_type": "code",
   "execution_count": 7,
   "id": "23be4374",
   "metadata": {},
   "outputs": [
    {
     "data": {
      "image/png": "[encoded data removed]",
      "text/plain": [
       "<PIL.Image.Image image mode=RGB size=250x250>"
      ]
     },
     "metadata": {},
     "output_type": "display_data"
    },
    {
     "data": {
      "image/png": "[encoded data removed]",
      "text/plain": [
       "<PIL.Image.Image image mode=RGB size=250x250>"
      ]
     },
     "metadata": {},
     "output_type": "display_data"
    }
   ],
   "source": [
    "#map não é um cubo, apenas um array\n",
    "target_cube = cti.target_cubes[4][6]\n",
    "display_image(cubemap_to_image(target_cube))\n",
    "\n",
    "# testando para um cubo (tipo Cube)\n",
    "new_cube = Cube(target_cube)\n",
    "display_image(new_cube.image(250))\n",
    "\n"
   ]
  },
  {
   "cell_type": "markdown",
   "id": "5cc853ec",
   "metadata": {},
   "source": [
    "## Testando seleção de pais"
   ]
  },
  {
   "cell_type": "code",
   "execution_count": 1,
   "id": "c8350d97",
   "metadata": {},
   "outputs": [
    {
     "data": {
      "image/png": "[encoded data removed]",
      "text/plain": [
       "<PIL.Image.Image image mode=RGB size=250x250>"
      ]
     },
     "metadata": {},
     "output_type": "display_data"
    },
    {
     "data": {
      "text/plain": [
       "'Population fitness: [0.24139626352015733, 0.37168141592920356, 0.42133726647000985, 0.3775811209439528, 0.38987217305801375, 0.4945919370698132, 0.5870206489675516, 0.4837758112094395, 0.33480825958702065, 0.4056047197640118]'"
      ]
     },
     "metadata": {},
     "output_type": "display_data"
    },
    {
     "data": {
      "text/plain": [
       "'Parents: [0.37168141592920356, 0.3775811209439528]'"
      ]
     },
     "metadata": {},
     "output_type": "display_data"
    }
   ],
   "source": [
    "from ga import *\n",
    "\n",
    "cti = cubesToImage(n_cubes_x=15, image_size=450)\n",
    "\n",
    "target_cube = cti.target_cubes[3][4]\n",
    "display_image(cubemap_to_image(target_cube))\n",
    "\n",
    "ga = GA(target_cube)\n",
    "ga.init_population()\n",
    "display(f\"Population fitness: {[ind.fitness for ind in ga.population]}\")\n",
    "\n",
    "pais = ga.parent_selection(tournament_size=5, n_parents=2)\n",
    "display(f\"Parents: {[i.fitness for i in pais]}\")"
   ]
  },
  {
   "cell_type": "markdown",
   "id": "dae8a52c",
   "metadata": {},
   "source": [
    "## Testando seleção de sobreviventes"
   ]
  },
  {
   "cell_type": "code",
   "execution_count": null,
   "id": "4e9d6f2f-8f20-481e-aed0-0d919946a4c2",
   "metadata": {},
   "outputs": [],
   "source": [
    "from ga import *\n",
    "\n",
    "cti = cubesToImage(n_cubes_x = 15, image_size=450)\n",
    "display_image(cubes_to_image(cti.target_cubes, stroke_width=1, size_times=5, stroke_color=40))\n",
    "\n",
    "target_cube = cti.target_cubes[1][3]\n",
    "display_image(cubemap_to_image(target_cube))\n",
    "\n",
    "ga = GA(target_cube)\n",
    "ga.init_population()\n",
    "for ind in ga.population:\n",
    "  display(\"Fitness: \", ind.fitness)\n",
    "  display_image(ind.image(300))"
   ]
  }
 ],
 "metadata": {
  "kernelspec": {
   "display_name": "Python 3 (ipykernel)",
   "language": "python",
   "name": "python3"
  },
  "language_info": {
   "codemirror_mode": {
    "name": "ipython",
    "version": 3
   },
   "file_extension": ".py",
   "mimetype": "text/x-python",
   "name": "python",
   "nbconvert_exporter": "python",
   "pygments_lexer": "ipython3",
   "version": "3.10.10"
  }
 },
 "nbformat": 4,
 "nbformat_minor": 5
}
