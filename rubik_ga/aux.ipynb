{
 "cells": [
  {
   "cell_type": "code",
   "execution_count": 1,
   "id": "69071fb5-a2d0-4c96-8bc0-843ebd477f2d",
   "metadata": {},
   "outputs": [
    {
     "data": {
      "image/png": "[encoded data removed]",
      "text/plain": [
       "<PIL.Image.Image image mode=RGB size=300x300>"
      ]
     },
     "metadata": {},
     "output_type": "display_data"
    },
    {
     "data": {
      "image/png": "[encoded data removed]",
      "text/plain": [
       "<PIL.Image.Image image mode=RGB size=300x300>"
      ]
     },
     "metadata": {},
     "output_type": "display_data"
    }
   ],
   "source": [
    "from cube import Cube\n",
    "from image_utils import *\n",
    "image = load_image('images/cabeca-gatinha-b.png')\n",
    "image_gray = image_to_gray_pixels(image, 600, 10)\n",
    "gray_cubes = gray_image_to_cubes(image_gray)\n",
    "target_cube = gray_cubes[0][0]\n",
    "\n",
    "cube = Cube(target_cube)\n",
    "display_image(cube.image(300))\n",
    "cube_empty = Cube(target_cube, __random__=False)\n",
    "display_image(cube_empty.image(300))\n"
   ]
  },
  {
   "cell_type": "code",
   "execution_count": 2,
   "id": "4e9d6f2f-8f20-481e-aed0-0d919946a4c2",
   "metadata": {},
   "outputs": [
    {
     "data": {
      "image/png": "[encoded data removed]",
      "text/plain": [
       "<PIL.Image.Image image mode=L size=225x225>"
      ]
     },
     "metadata": {},
     "output_type": "display_data"
    },
    {
     "data": {
      "image/png": "[encoded data removed]",
      "text/plain": [
       "<PIL.Image.Image image mode=RGB size=100x100>"
      ]
     },
     "metadata": {},
     "output_type": "display_data"
    },
    {
     "data": {
      "text/plain": [
       "0.3343166175024582"
      ]
     },
     "metadata": {},
     "output_type": "display_data"
    },
    {
     "data": {
      "image/png": "[encoded data removed]",
      "text/plain": [
       "<PIL.Image.Image image mode=RGB size=100x100>"
      ]
     },
     "metadata": {},
     "output_type": "display_data"
    },
    {
     "data": {
      "text/plain": [
       "0.0"
      ]
     },
     "metadata": {},
     "output_type": "display_data"
    }
   ],
   "source": [
    "from ga import *\n",
    "\n",
    "cti = cubesToImage(n_cubes_x = 15, image_size=450)\n",
    "# display_image(resize_pixeled(cti.target_gray_nearest, 300))\n",
    "display_image(cubes_to_image(cti.target_cubes, stroke_width=1, size_times=5, stroke_color=40))\n",
    "\n",
    "\n",
    "target_cube = cti.target_cubes[0][0]\n",
    "\n",
    "\n",
    "ga = GA(target_cube)\n",
    "ga.init_population()\n",
    "\n",
    "ind = ga.population[0]\n",
    "certo = Cube(target_cube, __random__=False)\n",
    "display_image(ind.image(100))\n",
    "display(ind.fitness)\n",
    "display_image(certo.image(100))\n",
    "display(certo.fitness)"
   ]
  },
  {
   "cell_type": "code",
   "execution_count": null,
   "id": "2d108339-6b66-4c90-8816-fb339d81e32b",
   "metadata": {},
   "outputs": [],
   "source": []
  }
 ],
 "metadata": {
  "kernelspec": {
   "display_name": "Python 3 (ipykernel)",
   "language": "python",
   "name": "python3"
  },
  "language_info": {
   "codemirror_mode": {
    "name": "ipython",
    "version": 3
   },
   "file_extension": ".py",
   "mimetype": "text/x-python",
   "name": "python",
   "nbconvert_exporter": "python",
   "pygments_lexer": "ipython3",
   "version": "3.11.4"
  }
 },
 "nbformat": 4,
 "nbformat_minor": 5
}
