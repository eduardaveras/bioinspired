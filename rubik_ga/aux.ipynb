{
 "cells": [
  {
   "cell_type": "markdown",
   "id": "57c034fb",
   "metadata": {},
   "source": [
    "## Testando imagens"
   ]
  },
  {
   "cell_type": "code",
   "execution_count": 4,
   "id": "69071fb5-a2d0-4c96-8bc0-843ebd477f2d",
   "metadata": {},
   "outputs": [
    {
     "data": {
      "text/plain": [
       "(45, 45)"
      ]
     },
     "metadata": {},
     "output_type": "display_data"
    },
    {
     "data": {
      "text/plain": [
       "(3, 3)"
      ]
     },
     "metadata": {},
     "output_type": "display_data"
    },
    {
     "data": {
      "image/png": "[encoded data removed]",
      "text/plain": [
       "<PIL.Image.Image image mode=L size=225x225>"
      ]
     },
     "metadata": {},
     "output_type": "display_data"
    },
    {
     "data": {
      "image/png": "[encoded data removed]",
      "text/plain": [
       "<PIL.Image.Image image mode=RGB size=300x300>"
      ]
     },
     "metadata": {},
     "output_type": "display_data"
    }
   ],
   "source": [
    "from ga import *\n",
    "\n",
    "cti = cubesToImage(n_cubes_x = 15, image_size=450)\n",
    "display_image(cubes_to_image(cti.target_cubes, stroke_width=1, size_times=5, stroke_color=40))\n",
    "display_image(resize_pixeled(cti.target_color_cubes, 300))"
   ]
  },
  {
   "cell_type": "markdown",
   "id": "93b0c7e2",
   "metadata": {},
   "source": [
    "### Cubos para imagem"
   ]
  },
  {
   "cell_type": "code",
   "execution_count": 3,
   "id": "23be4374",
   "metadata": {},
   "outputs": [
    {
     "data": {
      "text/plain": [
       "array([[125, 125, 125],\n",
       "       [ 76,  76,  29],\n",
       "       [ 76,  29,  29]], dtype=uint8)"
      ]
     },
     "metadata": {},
     "output_type": "display_data"
    },
    {
     "data": {
      "image/png": "[encoded data removed]",
      "text/plain": [
       "<PIL.Image.Image image mode=RGB size=250x250>"
      ]
     },
     "metadata": {},
     "output_type": "display_data"
    },
    {
     "data": {
      "image/png": "[encoded data removed]",
      "text/plain": [
       "<PIL.Image.Image image mode=RGB size=250x250>"
      ]
     },
     "metadata": {},
     "output_type": "display_data"
    }
   ],
   "source": [
    "#map não é um cubo, apenas um array\n",
    "target_cube = cti.target_cubes[4][6]\n",
    "display(target_cube)\n",
    "display_image(cubemap_to_image(target_cube))\n",
    "\n",
    "# testando para um cubo (tipo Cube)\n",
    "new_cube = Cube(target_cube)\n",
    "display_image(new_cube.image(250))\n",
    "\n"
   ]
  },
  {
   "cell_type": "markdown",
   "id": "5cc853ec",
   "metadata": {},
   "source": [
    "## Testando seleção de pais"
   ]
  },
  {
   "cell_type": "code",
   "execution_count": 4,
   "id": "c8350d97",
   "metadata": {},
   "outputs": [
    {
     "data": {
      "image/png": "[encoded data removed]",
      "text/plain": [
       "<PIL.Image.Image image mode=RGB size=250x250>"
      ]
     },
     "metadata": {},
     "output_type": "display_data"
    },
    {
     "data": {
      "text/plain": [
       "'Population fitness: [0.8171091445427728, 0.7792527040314651, 0.6204523107177975, 0.5771878072763028, 0.43805309734513276, 0.6607669616519174, 0.6750245821042281, 0.6160275319567355, 0.4695181907571288, 0.6607669616519174]'"
      ]
     },
     "metadata": {},
     "output_type": "display_data"
    },
    {
     "data": {
      "text/plain": [
       "'Parents: [0.6160275319567355, 0.6204523107177975]'"
      ]
     },
     "metadata": {},
     "output_type": "display_data"
    }
   ],
   "source": [
    "from ga import *\n",
    "\n",
    "cti = cubesToImage(n_cubes_x=15, image_size=450)\n",
    "\n",
    "target_cube = cti.target_cubes[3][4]\n",
    "display_image(cubemap_to_image(target_cube))\n",
    "\n",
    "ga = GA(target_cube)\n",
    "ga.init_population()\n",
    "display(f\"Population fitness: {[ind.fitness for ind in ga.population]}\")\n",
    "\n",
    "pais = ga.parent_selection(tournament_size=5, n_parents=2)\n",
    "display(f\"Parents: {[i.fitness for i in pais]}\")"
   ]
  },
  {
   "cell_type": "markdown",
   "id": "dae8a52c",
   "metadata": {},
   "source": [
    "## Testando seleção de sobreviventes"
   ]
  },
  {
   "cell_type": "code",
   "execution_count": 5,
   "id": "4e9d6f2f-8f20-481e-aed0-0d919946a4c2",
   "metadata": {},
   "outputs": [
    {
     "data": {
      "image/png": "[encoded data removed]",
      "text/plain": [
       "<PIL.Image.Image image mode=L size=225x225>"
      ]
     },
     "metadata": {},
     "output_type": "display_data"
    },
    {
     "data": {
      "image/png": "[encoded data removed]",
      "text/plain": [
       "<PIL.Image.Image image mode=RGB size=250x250>"
      ]
     },
     "metadata": {},
     "output_type": "display_data"
    },
    {
     "data": {
      "text/plain": [
       "'Fitness: '"
      ]
     },
     "metadata": {},
     "output_type": "display_data"
    },
    {
     "data": {
      "text/plain": [
       "0.3077679449360865"
      ]
     },
     "metadata": {},
     "output_type": "display_data"
    },
    {
     "data": {
      "image/png": "[encoded data removed]",
      "text/plain": [
       "<PIL.Image.Image image mode=RGB size=300x300>"
      ]
     },
     "metadata": {},
     "output_type": "display_data"
    },
    {
     "data": {
      "text/plain": [
       "'Fitness: '"
      ]
     },
     "metadata": {},
     "output_type": "display_data"
    },
    {
     "data": {
      "text/plain": [
       "0.3928220255653884"
      ]
     },
     "metadata": {},
     "output_type": "display_data"
    },
    {
     "data": {
      "image/png": "[encoded data removed]",
      "text/plain": [
       "<PIL.Image.Image image mode=RGB size=300x300>"
      ]
     },
     "metadata": {},
     "output_type": "display_data"
    },
    {
     "data": {
      "text/plain": [
       "'Fitness: '"
      ]
     },
     "metadata": {},
     "output_type": "display_data"
    },
    {
     "data": {
      "text/plain": [
       "0.26991150442477874"
      ]
     },
     "metadata": {},
     "output_type": "display_data"
    },
    {
     "data": {
      "image/png": "[encoded data removed]",
      "text/plain": [
       "<PIL.Image.Image image mode=RGB size=300x300>"
      ]
     },
     "metadata": {},
     "output_type": "display_data"
    },
    {
     "data": {
      "text/plain": [
       "'Fitness: '"
      ]
     },
     "metadata": {},
     "output_type": "display_data"
    },
    {
     "data": {
      "text/plain": [
       "0.31710914454277284"
      ]
     },
     "metadata": {},
     "output_type": "display_data"
    },
    {
     "data": {
      "image/png": "[encoded data removed]",
      "text/plain": [
       "<PIL.Image.Image image mode=RGB size=300x300>"
      ]
     },
     "metadata": {},
     "output_type": "display_data"
    },
    {
     "data": {
      "text/plain": [
       "'Fitness: '"
      ]
     },
     "metadata": {},
     "output_type": "display_data"
    },
    {
     "data": {
      "text/plain": [
       "0.4857423795476893"
      ]
     },
     "metadata": {},
     "output_type": "display_data"
    },
    {
     "data": {
      "image/png": "[encoded data removed]",
      "text/plain": [
       "<PIL.Image.Image image mode=RGB size=300x300>"
      ]
     },
     "metadata": {},
     "output_type": "display_data"
    },
    {
     "data": {
      "text/plain": [
       "'Fitness: '"
      ]
     },
     "metadata": {},
     "output_type": "display_data"
    },
    {
     "data": {
      "text/plain": [
       "0.576204523107178"
      ]
     },
     "metadata": {},
     "output_type": "display_data"
    },
    {
     "data": {
      "image/png": "[encoded data removed]",
      "text/plain": [
       "<PIL.Image.Image image mode=RGB size=300x300>"
      ]
     },
     "metadata": {},
     "output_type": "display_data"
    },
    {
     "data": {
      "text/plain": [
       "'Fitness: '"
      ]
     },
     "metadata": {},
     "output_type": "display_data"
    },
    {
     "data": {
      "text/plain": [
       "0.3834808259587021"
      ]
     },
     "metadata": {},
     "output_type": "display_data"
    },
    {
     "data": {
      "image/png": "[encoded data removed]",
      "text/plain": [
       "<PIL.Image.Image image mode=RGB size=300x300>"
      ]
     },
     "metadata": {},
     "output_type": "display_data"
    },
    {
     "data": {
      "text/plain": [
       "'Fitness: '"
      ]
     },
     "metadata": {},
     "output_type": "display_data"
    },
    {
     "data": {
      "text/plain": [
       "0.3176007866273353"
      ]
     },
     "metadata": {},
     "output_type": "display_data"
    },
    {
     "data": {
      "image/png": "[encoded data removed]",
      "text/plain": [
       "<PIL.Image.Image image mode=RGB size=300x300>"
      ]
     },
     "metadata": {},
     "output_type": "display_data"
    },
    {
     "data": {
      "text/plain": [
       "'Fitness: '"
      ]
     },
     "metadata": {},
     "output_type": "display_data"
    },
    {
     "data": {
      "text/plain": [
       "0.48180924287118976"
      ]
     },
     "metadata": {},
     "output_type": "display_data"
    },
    {
     "data": {
      "image/png": "[encoded data removed]",
      "text/plain": [
       "<PIL.Image.Image image mode=RGB size=300x300>"
      ]
     },
     "metadata": {},
     "output_type": "display_data"
    },
    {
     "data": {
      "text/plain": [
       "'Fitness: '"
      ]
     },
     "metadata": {},
     "output_type": "display_data"
    },
    {
     "data": {
      "text/plain": [
       "0.35742379547689285"
      ]
     },
     "metadata": {},
     "output_type": "display_data"
    },
    {
     "data": {
      "image/png": "[encoded data removed]",
      "text/plain": [
       "<PIL.Image.Image image mode=RGB size=300x300>"
      ]
     },
     "metadata": {},
     "output_type": "display_data"
    }
   ],
   "source": [
    "from ga import *\n",
    "\n",
    "cti = cubesToImage(n_cubes_x = 15, image_size=450)\n",
    "display_image(cubes_to_image(cti.target_cubes, stroke_width=1, size_times=5, stroke_color=40))\n",
    "\n",
    "target_cube = cti.target_cubes[1][3]\n",
    "display_image(cubemap_to_image(target_cube))\n",
    "\n",
    "ga = GA(target_cube)\n",
    "ga.init_population()\n",
    "for ind in ga.population:\n",
    "  display(\"Fitness: \", ind.fitness)\n",
    "  display_image(ind.image(300))"
   ]
  },
  {
   "cell_type": "markdown",
   "id": "d1d38d5d",
   "metadata": {},
   "source": [
    "## Testando algoritmo"
   ]
  },
  {
   "cell_type": "code",
   "execution_count": 6,
   "id": "32ee41cb",
   "metadata": {},
   "outputs": [
    {
     "data": {
      "text/plain": [
       "array([[125, 178, 255],\n",
       "       [125, 125, 255],\n",
       "       [125, 125, 125]], dtype=uint8)"
      ]
     },
     "metadata": {},
     "output_type": "display_data"
    },
    {
     "name": "stderr",
     "output_type": "stream",
     "text": [
      "/Users/marc/Repos/bioinspired/rubik_ga/cube.py:57: FutureWarning: elementwise comparison failed; returning scalar instead, but in the future will perform elementwise comparison\n",
      "  if move_history == []:\n"
     ]
    }
   ],
   "source": [
    "import cube as cb\n",
    "display(target_cube)\n",
    "ga = cb.cube_GA(target_cube)\n",
    "ga.run()\n",
    "display_image(ga.get_best().image(300))"
   ]
  },
  {
   "cell_type": "code",
   "execution_count": 7,
   "id": "1d106f02",
   "metadata": {},
   "outputs": [
    {
     "data": {
      "text/html": [
       "<div>\n",
       "<style scoped>\n",
       "    .dataframe tbody tr th:only-of-type {\n",
       "        vertical-align: middle;\n",
       "    }\n",
       "\n",
       "    .dataframe tbody tr th {\n",
       "        vertical-align: top;\n",
       "    }\n",
       "\n",
       "    .dataframe thead th {\n",
       "        text-align: right;\n",
       "    }\n",
       "</style>\n",
       "<table border=\"1\" class=\"dataframe\">\n",
       "  <thead>\n",
       "    <tr style=\"text-align: right;\">\n",
       "      <th></th>\n",
       "      <th>1</th>\n",
       "      <th>2</th>\n",
       "      <th>3</th>\n",
       "      <th>4</th>\n",
       "      <th>5</th>\n",
       "      <th>6</th>\n",
       "      <th>7</th>\n",
       "      <th>8</th>\n",
       "      <th>9</th>\n",
       "      <th>10</th>\n",
       "      <th>...</th>\n",
       "      <th>991</th>\n",
       "      <th>992</th>\n",
       "      <th>993</th>\n",
       "      <th>994</th>\n",
       "      <th>995</th>\n",
       "      <th>996</th>\n",
       "      <th>997</th>\n",
       "      <th>998</th>\n",
       "      <th>999</th>\n",
       "      <th>1000</th>\n",
       "    </tr>\n",
       "  </thead>\n",
       "  <tbody>\n",
       "    <tr>\n",
       "      <th>parents_pool</th>\n",
       "      <td>[0.3077679449360865, 0.41150442477876104, 0.27...</td>\n",
       "      <td>[0.3077679449360865, 0.2581120943952802, 0.499...</td>\n",
       "      <td>[0.4498525073746313, 0.30186823992133727, 0.27...</td>\n",
       "      <td>[0.3357915437561455, 0.42133726647000985, 0.40...</td>\n",
       "      <td>[0.3077679449360865, 0.428220255653884, 0.3397...</td>\n",
       "      <td>[0.34365781710914456, 0.323992133726647, 0.626...</td>\n",
       "      <td>[0.2767944936086529, 0.42133726647000985, 0.36...</td>\n",
       "      <td>[0.32890855457227136, 0.41150442477876104, 0.2...</td>\n",
       "      <td>[0.42133726647000985, 0.42133726647000985, 0.2...</td>\n",
       "      <td>[0.30186823992133727, 0.3859390363815143, 0.34...</td>\n",
       "      <td>...</td>\n",
       "      <td>[0.21779744346116028, 0.23500491642084562, 0.3...</td>\n",
       "      <td>[0.387905604719764, 0.252212389380531, 0.29842...</td>\n",
       "      <td>[0.22123893805309736, 0.16764995083579154, 0.2...</td>\n",
       "      <td>[0.17305801376597837, 0.14995083579154375, 0.1...</td>\n",
       "      <td>[0.16224188790560473, 0.4198623402163225, 0.22...</td>\n",
       "      <td>[0.26991150442477874, 0.4139626352015733, 0.27...</td>\n",
       "      <td>[0.19174041297935104, 0.12094395280235988, 0.2...</td>\n",
       "      <td>[0.36283185840707965, 0.36774827925270404, 0.2...</td>\n",
       "      <td>[0.36774827925270404, 0.204031465093412, 0.163...</td>\n",
       "      <td>[0.33136676499508355, 0.24926253687315633, 0.2...</td>\n",
       "    </tr>\n",
       "    <tr>\n",
       "      <th>children_b4mutation</th>\n",
       "      <td>[0.42133726647000985, 0.41150442477876104]</td>\n",
       "      <td>[0.4995083579154376, 0.4591937069813176]</td>\n",
       "      <td>[0.3338249754178958, 0.48180924287118976]</td>\n",
       "      <td>[0.42133726647000985, 0.4060963618485742]</td>\n",
       "      <td>[0.428220255653884, 0.33972468043264503]</td>\n",
       "      <td>[0.6268436578171092, 0.34365781710914456]</td>\n",
       "      <td>[0.42133726647000985, 0.3834808259587021]</td>\n",
       "      <td>[0.41150442477876104, 0.5127826941986234]</td>\n",
       "      <td>[0.3834808259587021, 0.26991150442477874]</td>\n",
       "      <td>[0.5093411996066863, 0.27728613569321536]</td>\n",
       "      <td>...</td>\n",
       "      <td>[0.4060963618485742, 0.2576204523107178]</td>\n",
       "      <td>[0.387905604719764, 0.2984267453294002]</td>\n",
       "      <td>[0.4056047197640118, 0.2861356932153392]</td>\n",
       "      <td>[0.23795476892822026, 0.18977384464110128]</td>\n",
       "      <td>[0.4198623402163225, 0.25073746312684364]</td>\n",
       "      <td>[0.36037364798426746, 0.4139626352015733]</td>\n",
       "      <td>[0.3392330383480826, 0.4365781710914454]</td>\n",
       "      <td>[0.35988200589970504, 0.24336283185840707]</td>\n",
       "      <td>[0.2581120943952802, 0.3559488692232055]</td>\n",
       "      <td>[0.33136676499508355, 0.31809242871189775]</td>\n",
       "    </tr>\n",
       "    <tr>\n",
       "      <th>best_fitness</th>\n",
       "      <td>0.189282</td>\n",
       "      <td>0.189282</td>\n",
       "      <td>0.189282</td>\n",
       "      <td>0.189282</td>\n",
       "      <td>0.189282</td>\n",
       "      <td>0.189282</td>\n",
       "      <td>0.189282</td>\n",
       "      <td>0.189282</td>\n",
       "      <td>0.189282</td>\n",
       "      <td>0.189282</td>\n",
       "      <td>...</td>\n",
       "      <td>0.087512</td>\n",
       "      <td>0.087512</td>\n",
       "      <td>0.087512</td>\n",
       "      <td>0.087512</td>\n",
       "      <td>0.087512</td>\n",
       "      <td>0.087512</td>\n",
       "      <td>0.087512</td>\n",
       "      <td>0.087512</td>\n",
       "      <td>0.087512</td>\n",
       "      <td>0.087512</td>\n",
       "    </tr>\n",
       "    <tr>\n",
       "      <th>best_cube</th>\n",
       "      <td>&lt;bound method Cube.front_face of &lt;cube.Cube ob...</td>\n",
       "      <td>&lt;bound method Cube.front_face of &lt;cube.Cube ob...</td>\n",
       "      <td>&lt;bound method Cube.front_face of &lt;cube.Cube ob...</td>\n",
       "      <td>&lt;bound method Cube.front_face of &lt;cube.Cube ob...</td>\n",
       "      <td>&lt;bound method Cube.front_face of &lt;cube.Cube ob...</td>\n",
       "      <td>&lt;bound method Cube.front_face of &lt;cube.Cube ob...</td>\n",
       "      <td>&lt;bound method Cube.front_face of &lt;cube.Cube ob...</td>\n",
       "      <td>&lt;bound method Cube.front_face of &lt;cube.Cube ob...</td>\n",
       "      <td>&lt;bound method Cube.front_face of &lt;cube.Cube ob...</td>\n",
       "      <td>&lt;bound method Cube.front_face of &lt;cube.Cube ob...</td>\n",
       "      <td>...</td>\n",
       "      <td>&lt;bound method Cube.front_face of &lt;cube.Cube ob...</td>\n",
       "      <td>&lt;bound method Cube.front_face of &lt;cube.Cube ob...</td>\n",
       "      <td>&lt;bound method Cube.front_face of &lt;cube.Cube ob...</td>\n",
       "      <td>&lt;bound method Cube.front_face of &lt;cube.Cube ob...</td>\n",
       "      <td>&lt;bound method Cube.front_face of &lt;cube.Cube ob...</td>\n",
       "      <td>&lt;bound method Cube.front_face of &lt;cube.Cube ob...</td>\n",
       "      <td>&lt;bound method Cube.front_face of &lt;cube.Cube ob...</td>\n",
       "      <td>&lt;bound method Cube.front_face of &lt;cube.Cube ob...</td>\n",
       "      <td>&lt;bound method Cube.front_face of &lt;cube.Cube ob...</td>\n",
       "      <td>&lt;bound method Cube.front_face of &lt;cube.Cube ob...</td>\n",
       "    </tr>\n",
       "    <tr>\n",
       "      <th>best_moves</th>\n",
       "      <td>[D, B', L']</td>\n",
       "      <td>[D, B', L']</td>\n",
       "      <td>[D, B', L']</td>\n",
       "      <td>[D, B', L']</td>\n",
       "      <td>[D, B', L']</td>\n",
       "      <td>[D, B', L']</td>\n",
       "      <td>[D, B', L']</td>\n",
       "      <td>[D, B', L']</td>\n",
       "      <td>[D, B', L']</td>\n",
       "      <td>[D, B', L']</td>\n",
       "      <td>...</td>\n",
       "      <td>[D2, U', D, x, F, R, B, L, U, L', U, B', R', F...</td>\n",
       "      <td>[D2, U', D, x, F, R, B, L, U, L', U, B', R', F...</td>\n",
       "      <td>[D2, U', D, x, F, R, B, L, U, L', U, B', R', F...</td>\n",
       "      <td>[D2, U', D, x, F, R, B, L, U, L', U, B', R', F...</td>\n",
       "      <td>[D2, U', D, x, F, R, B, L, U, L', U, B', R', F...</td>\n",
       "      <td>[D2, U', D, x, F, R, B, L, U, L', U, B', R', F...</td>\n",
       "      <td>[D2, U', D, x, F, R, B, L, U, L', U, B', R', F...</td>\n",
       "      <td>[D2, U', D, x, F, R, B, L, U, L', U, B', R', F...</td>\n",
       "      <td>[D2, U', D, x, F, R, B, L, U, L', U, B', R', F...</td>\n",
       "      <td>[D2, U', D, x, F, R, B, L, U, L', U, B', R', F...</td>\n",
       "    </tr>\n",
       "    <tr>\n",
       "      <th>population</th>\n",
       "      <td>[0.6268436578171092]</td>\n",
       "      <td>[0.6268436578171092]</td>\n",
       "      <td>[0.6268436578171092]</td>\n",
       "      <td>[0.6268436578171092]</td>\n",
       "      <td>[0.6268436578171092]</td>\n",
       "      <td>[0.6268436578171092]</td>\n",
       "      <td>[0.6268436578171092]</td>\n",
       "      <td>[0.6268436578171092]</td>\n",
       "      <td>[0.6268436578171092]</td>\n",
       "      <td>[0.6268436578171092]</td>\n",
       "      <td>...</td>\n",
       "      <td>[0.47050147492625366]</td>\n",
       "      <td>[0.47050147492625366]</td>\n",
       "      <td>[0.47050147492625366]</td>\n",
       "      <td>[0.47050147492625366]</td>\n",
       "      <td>[0.47050147492625366]</td>\n",
       "      <td>[0.47050147492625366]</td>\n",
       "      <td>[0.47050147492625366]</td>\n",
       "      <td>[0.47050147492625366]</td>\n",
       "      <td>[0.47050147492625366]</td>\n",
       "      <td>[0.48525073746312686]</td>\n",
       "    </tr>\n",
       "    <tr>\n",
       "      <th>parents</th>\n",
       "      <td>[0.41150442477876104]</td>\n",
       "      <td>[0.4995083579154376]</td>\n",
       "      <td>[0.4498525073746313]</td>\n",
       "      <td>[0.42133726647000985]</td>\n",
       "      <td>[0.428220255653884]</td>\n",
       "      <td>[0.6268436578171092]</td>\n",
       "      <td>[0.511307767944936]</td>\n",
       "      <td>[0.5427728613569321]</td>\n",
       "      <td>[0.4591937069813176]</td>\n",
       "      <td>[0.4857423795476893]</td>\n",
       "      <td>...</td>\n",
       "      <td>[0.3392330383480826]</td>\n",
       "      <td>[0.3495575221238938]</td>\n",
       "      <td>[0.34365781710914456]</td>\n",
       "      <td>[0.2384464110127827]</td>\n",
       "      <td>[0.36774827925270404]</td>\n",
       "      <td>[0.3952802359882006]</td>\n",
       "      <td>[0.4365781710914454]</td>\n",
       "      <td>[0.4523107177974435]</td>\n",
       "      <td>[0.36774827925270404]</td>\n",
       "      <td>[0.48525073746312686]</td>\n",
       "    </tr>\n",
       "    <tr>\n",
       "      <th>children</th>\n",
       "      <td>[0.41150442477876104]</td>\n",
       "      <td>[0.4611602753195674]</td>\n",
       "      <td>[0.4174041297935103]</td>\n",
       "      <td>[0.5442477876106194]</td>\n",
       "      <td>[0.428220255653884]</td>\n",
       "      <td>[0.6268436578171092]</td>\n",
       "      <td>[0.511307767944936]</td>\n",
       "      <td>[0.5427728613569321]</td>\n",
       "      <td>[0.3834808259587021]</td>\n",
       "      <td>[0.5093411996066863]</td>\n",
       "      <td>...</td>\n",
       "      <td>[0.336283185840708]</td>\n",
       "      <td>[0.3495575221238938]</td>\n",
       "      <td>[0.4056047197640118]</td>\n",
       "      <td>[0.2384464110127827]</td>\n",
       "      <td>[0.36774827925270404]</td>\n",
       "      <td>[0.3952802359882006]</td>\n",
       "      <td>[0.4365781710914454]</td>\n",
       "      <td>[0.4469026548672566]</td>\n",
       "      <td>[0.39577187807276304]</td>\n",
       "      <td>[0.48525073746312686]</td>\n",
       "    </tr>\n",
       "    <tr>\n",
       "      <th>mean_fitness</th>\n",
       "      <td>0.626844</td>\n",
       "      <td>0.626844</td>\n",
       "      <td>0.626844</td>\n",
       "      <td>0.626844</td>\n",
       "      <td>0.626844</td>\n",
       "      <td>0.626844</td>\n",
       "      <td>0.626844</td>\n",
       "      <td>0.626844</td>\n",
       "      <td>0.626844</td>\n",
       "      <td>0.626844</td>\n",
       "      <td>...</td>\n",
       "      <td>0.470501</td>\n",
       "      <td>0.470501</td>\n",
       "      <td>0.470501</td>\n",
       "      <td>0.470501</td>\n",
       "      <td>0.470501</td>\n",
       "      <td>0.470501</td>\n",
       "      <td>0.470501</td>\n",
       "      <td>0.470501</td>\n",
       "      <td>0.470501</td>\n",
       "      <td>0.485251</td>\n",
       "    </tr>\n",
       "    <tr>\n",
       "      <th>std_fitness</th>\n",
       "      <td>0.0</td>\n",
       "      <td>0.0</td>\n",
       "      <td>0.0</td>\n",
       "      <td>0.0</td>\n",
       "      <td>0.0</td>\n",
       "      <td>0.0</td>\n",
       "      <td>0.0</td>\n",
       "      <td>0.0</td>\n",
       "      <td>0.0</td>\n",
       "      <td>0.0</td>\n",
       "      <td>...</td>\n",
       "      <td>0.0</td>\n",
       "      <td>0.0</td>\n",
       "      <td>0.0</td>\n",
       "      <td>0.0</td>\n",
       "      <td>0.0</td>\n",
       "      <td>0.0</td>\n",
       "      <td>0.0</td>\n",
       "      <td>0.0</td>\n",
       "      <td>0.0</td>\n",
       "      <td>0.0</td>\n",
       "    </tr>\n",
       "  </tbody>\n",
       "</table>\n",
       "<p>10 rows × 1000 columns</p>\n",
       "</div>"
      ],
      "text/plain": [
       "                                                                  1     \\\n",
       "parents_pool         [0.3077679449360865, 0.41150442477876104, 0.27...   \n",
       "children_b4mutation         [0.42133726647000985, 0.41150442477876104]   \n",
       "best_fitness                                                  0.189282   \n",
       "best_cube            <bound method Cube.front_face of <cube.Cube ob...   \n",
       "best_moves                                                 [D, B', L']   \n",
       "population                                        [0.6268436578171092]   \n",
       "parents                                          [0.41150442477876104]   \n",
       "children                                         [0.41150442477876104]   \n",
       "mean_fitness                                                  0.626844   \n",
       "std_fitness                                                        0.0   \n",
       "\n",
       "                                                                  2     \\\n",
       "parents_pool         [0.3077679449360865, 0.2581120943952802, 0.499...   \n",
       "children_b4mutation           [0.4995083579154376, 0.4591937069813176]   \n",
       "best_fitness                                                  0.189282   \n",
       "best_cube            <bound method Cube.front_face of <cube.Cube ob...   \n",
       "best_moves                                                 [D, B', L']   \n",
       "population                                        [0.6268436578171092]   \n",
       "parents                                           [0.4995083579154376]   \n",
       "children                                          [0.4611602753195674]   \n",
       "mean_fitness                                                  0.626844   \n",
       "std_fitness                                                        0.0   \n",
       "\n",
       "                                                                  3     \\\n",
       "parents_pool         [0.4498525073746313, 0.30186823992133727, 0.27...   \n",
       "children_b4mutation          [0.3338249754178958, 0.48180924287118976]   \n",
       "best_fitness                                                  0.189282   \n",
       "best_cube            <bound method Cube.front_face of <cube.Cube ob...   \n",
       "best_moves                                                 [D, B', L']   \n",
       "population                                        [0.6268436578171092]   \n",
       "parents                                           [0.4498525073746313]   \n",
       "children                                          [0.4174041297935103]   \n",
       "mean_fitness                                                  0.626844   \n",
       "std_fitness                                                        0.0   \n",
       "\n",
       "                                                                  4     \\\n",
       "parents_pool         [0.3357915437561455, 0.42133726647000985, 0.40...   \n",
       "children_b4mutation          [0.42133726647000985, 0.4060963618485742]   \n",
       "best_fitness                                                  0.189282   \n",
       "best_cube            <bound method Cube.front_face of <cube.Cube ob...   \n",
       "best_moves                                                 [D, B', L']   \n",
       "population                                        [0.6268436578171092]   \n",
       "parents                                          [0.42133726647000985]   \n",
       "children                                          [0.5442477876106194]   \n",
       "mean_fitness                                                  0.626844   \n",
       "std_fitness                                                        0.0   \n",
       "\n",
       "                                                                  5     \\\n",
       "parents_pool         [0.3077679449360865, 0.428220255653884, 0.3397...   \n",
       "children_b4mutation           [0.428220255653884, 0.33972468043264503]   \n",
       "best_fitness                                                  0.189282   \n",
       "best_cube            <bound method Cube.front_face of <cube.Cube ob...   \n",
       "best_moves                                                 [D, B', L']   \n",
       "population                                        [0.6268436578171092]   \n",
       "parents                                            [0.428220255653884]   \n",
       "children                                           [0.428220255653884]   \n",
       "mean_fitness                                                  0.626844   \n",
       "std_fitness                                                        0.0   \n",
       "\n",
       "                                                                  6     \\\n",
       "parents_pool         [0.34365781710914456, 0.323992133726647, 0.626...   \n",
       "children_b4mutation          [0.6268436578171092, 0.34365781710914456]   \n",
       "best_fitness                                                  0.189282   \n",
       "best_cube            <bound method Cube.front_face of <cube.Cube ob...   \n",
       "best_moves                                                 [D, B', L']   \n",
       "population                                        [0.6268436578171092]   \n",
       "parents                                           [0.6268436578171092]   \n",
       "children                                          [0.6268436578171092]   \n",
       "mean_fitness                                                  0.626844   \n",
       "std_fitness                                                        0.0   \n",
       "\n",
       "                                                                  7     \\\n",
       "parents_pool         [0.2767944936086529, 0.42133726647000985, 0.36...   \n",
       "children_b4mutation          [0.42133726647000985, 0.3834808259587021]   \n",
       "best_fitness                                                  0.189282   \n",
       "best_cube            <bound method Cube.front_face of <cube.Cube ob...   \n",
       "best_moves                                                 [D, B', L']   \n",
       "population                                        [0.6268436578171092]   \n",
       "parents                                            [0.511307767944936]   \n",
       "children                                           [0.511307767944936]   \n",
       "mean_fitness                                                  0.626844   \n",
       "std_fitness                                                        0.0   \n",
       "\n",
       "                                                                  8     \\\n",
       "parents_pool         [0.32890855457227136, 0.41150442477876104, 0.2...   \n",
       "children_b4mutation          [0.41150442477876104, 0.5127826941986234]   \n",
       "best_fitness                                                  0.189282   \n",
       "best_cube            <bound method Cube.front_face of <cube.Cube ob...   \n",
       "best_moves                                                 [D, B', L']   \n",
       "population                                        [0.6268436578171092]   \n",
       "parents                                           [0.5427728613569321]   \n",
       "children                                          [0.5427728613569321]   \n",
       "mean_fitness                                                  0.626844   \n",
       "std_fitness                                                        0.0   \n",
       "\n",
       "                                                                  9     \\\n",
       "parents_pool         [0.42133726647000985, 0.42133726647000985, 0.2...   \n",
       "children_b4mutation          [0.3834808259587021, 0.26991150442477874]   \n",
       "best_fitness                                                  0.189282   \n",
       "best_cube            <bound method Cube.front_face of <cube.Cube ob...   \n",
       "best_moves                                                 [D, B', L']   \n",
       "population                                        [0.6268436578171092]   \n",
       "parents                                           [0.4591937069813176]   \n",
       "children                                          [0.3834808259587021]   \n",
       "mean_fitness                                                  0.626844   \n",
       "std_fitness                                                        0.0   \n",
       "\n",
       "                                                                  10    ...  \\\n",
       "parents_pool         [0.30186823992133727, 0.3859390363815143, 0.34...  ...   \n",
       "children_b4mutation          [0.5093411996066863, 0.27728613569321536]  ...   \n",
       "best_fitness                                                  0.189282  ...   \n",
       "best_cube            <bound method Cube.front_face of <cube.Cube ob...  ...   \n",
       "best_moves                                                 [D, B', L']  ...   \n",
       "population                                        [0.6268436578171092]  ...   \n",
       "parents                                           [0.4857423795476893]  ...   \n",
       "children                                          [0.5093411996066863]  ...   \n",
       "mean_fitness                                                  0.626844  ...   \n",
       "std_fitness                                                        0.0  ...   \n",
       "\n",
       "                                                                  991   \\\n",
       "parents_pool         [0.21779744346116028, 0.23500491642084562, 0.3...   \n",
       "children_b4mutation           [0.4060963618485742, 0.2576204523107178]   \n",
       "best_fitness                                                  0.087512   \n",
       "best_cube            <bound method Cube.front_face of <cube.Cube ob...   \n",
       "best_moves           [D2, U', D, x, F, R, B, L, U, L', U, B', R', F...   \n",
       "population                                       [0.47050147492625366]   \n",
       "parents                                           [0.3392330383480826]   \n",
       "children                                           [0.336283185840708]   \n",
       "mean_fitness                                                  0.470501   \n",
       "std_fitness                                                        0.0   \n",
       "\n",
       "                                                                  992   \\\n",
       "parents_pool         [0.387905604719764, 0.252212389380531, 0.29842...   \n",
       "children_b4mutation            [0.387905604719764, 0.2984267453294002]   \n",
       "best_fitness                                                  0.087512   \n",
       "best_cube            <bound method Cube.front_face of <cube.Cube ob...   \n",
       "best_moves           [D2, U', D, x, F, R, B, L, U, L', U, B', R', F...   \n",
       "population                                       [0.47050147492625366]   \n",
       "parents                                           [0.3495575221238938]   \n",
       "children                                          [0.3495575221238938]   \n",
       "mean_fitness                                                  0.470501   \n",
       "std_fitness                                                        0.0   \n",
       "\n",
       "                                                                  993   \\\n",
       "parents_pool         [0.22123893805309736, 0.16764995083579154, 0.2...   \n",
       "children_b4mutation           [0.4056047197640118, 0.2861356932153392]   \n",
       "best_fitness                                                  0.087512   \n",
       "best_cube            <bound method Cube.front_face of <cube.Cube ob...   \n",
       "best_moves           [D2, U', D, x, F, R, B, L, U, L', U, B', R', F...   \n",
       "population                                       [0.47050147492625366]   \n",
       "parents                                          [0.34365781710914456]   \n",
       "children                                          [0.4056047197640118]   \n",
       "mean_fitness                                                  0.470501   \n",
       "std_fitness                                                        0.0   \n",
       "\n",
       "                                                                  994   \\\n",
       "parents_pool         [0.17305801376597837, 0.14995083579154375, 0.1...   \n",
       "children_b4mutation         [0.23795476892822026, 0.18977384464110128]   \n",
       "best_fitness                                                  0.087512   \n",
       "best_cube            <bound method Cube.front_face of <cube.Cube ob...   \n",
       "best_moves           [D2, U', D, x, F, R, B, L, U, L', U, B', R', F...   \n",
       "population                                       [0.47050147492625366]   \n",
       "parents                                           [0.2384464110127827]   \n",
       "children                                          [0.2384464110127827]   \n",
       "mean_fitness                                                  0.470501   \n",
       "std_fitness                                                        0.0   \n",
       "\n",
       "                                                                  995   \\\n",
       "parents_pool         [0.16224188790560473, 0.4198623402163225, 0.22...   \n",
       "children_b4mutation          [0.4198623402163225, 0.25073746312684364]   \n",
       "best_fitness                                                  0.087512   \n",
       "best_cube            <bound method Cube.front_face of <cube.Cube ob...   \n",
       "best_moves           [D2, U', D, x, F, R, B, L, U, L', U, B', R', F...   \n",
       "population                                       [0.47050147492625366]   \n",
       "parents                                          [0.36774827925270404]   \n",
       "children                                         [0.36774827925270404]   \n",
       "mean_fitness                                                  0.470501   \n",
       "std_fitness                                                        0.0   \n",
       "\n",
       "                                                                  996   \\\n",
       "parents_pool         [0.26991150442477874, 0.4139626352015733, 0.27...   \n",
       "children_b4mutation          [0.36037364798426746, 0.4139626352015733]   \n",
       "best_fitness                                                  0.087512   \n",
       "best_cube            <bound method Cube.front_face of <cube.Cube ob...   \n",
       "best_moves           [D2, U', D, x, F, R, B, L, U, L', U, B', R', F...   \n",
       "population                                       [0.47050147492625366]   \n",
       "parents                                           [0.3952802359882006]   \n",
       "children                                          [0.3952802359882006]   \n",
       "mean_fitness                                                  0.470501   \n",
       "std_fitness                                                        0.0   \n",
       "\n",
       "                                                                  997   \\\n",
       "parents_pool         [0.19174041297935104, 0.12094395280235988, 0.2...   \n",
       "children_b4mutation           [0.3392330383480826, 0.4365781710914454]   \n",
       "best_fitness                                                  0.087512   \n",
       "best_cube            <bound method Cube.front_face of <cube.Cube ob...   \n",
       "best_moves           [D2, U', D, x, F, R, B, L, U, L', U, B', R', F...   \n",
       "population                                       [0.47050147492625366]   \n",
       "parents                                           [0.4365781710914454]   \n",
       "children                                          [0.4365781710914454]   \n",
       "mean_fitness                                                  0.470501   \n",
       "std_fitness                                                        0.0   \n",
       "\n",
       "                                                                  998   \\\n",
       "parents_pool         [0.36283185840707965, 0.36774827925270404, 0.2...   \n",
       "children_b4mutation         [0.35988200589970504, 0.24336283185840707]   \n",
       "best_fitness                                                  0.087512   \n",
       "best_cube            <bound method Cube.front_face of <cube.Cube ob...   \n",
       "best_moves           [D2, U', D, x, F, R, B, L, U, L', U, B', R', F...   \n",
       "population                                       [0.47050147492625366]   \n",
       "parents                                           [0.4523107177974435]   \n",
       "children                                          [0.4469026548672566]   \n",
       "mean_fitness                                                  0.470501   \n",
       "std_fitness                                                        0.0   \n",
       "\n",
       "                                                                  999   \\\n",
       "parents_pool         [0.36774827925270404, 0.204031465093412, 0.163...   \n",
       "children_b4mutation           [0.2581120943952802, 0.3559488692232055]   \n",
       "best_fitness                                                  0.087512   \n",
       "best_cube            <bound method Cube.front_face of <cube.Cube ob...   \n",
       "best_moves           [D2, U', D, x, F, R, B, L, U, L', U, B', R', F...   \n",
       "population                                       [0.47050147492625366]   \n",
       "parents                                          [0.36774827925270404]   \n",
       "children                                         [0.39577187807276304]   \n",
       "mean_fitness                                                  0.470501   \n",
       "std_fitness                                                        0.0   \n",
       "\n",
       "                                                                  1000  \n",
       "parents_pool         [0.33136676499508355, 0.24926253687315633, 0.2...  \n",
       "children_b4mutation         [0.33136676499508355, 0.31809242871189775]  \n",
       "best_fitness                                                  0.087512  \n",
       "best_cube            <bound method Cube.front_face of <cube.Cube ob...  \n",
       "best_moves           [D2, U', D, x, F, R, B, L, U, L', U, B', R', F...  \n",
       "population                                       [0.48525073746312686]  \n",
       "parents                                          [0.48525073746312686]  \n",
       "children                                         [0.48525073746312686]  \n",
       "mean_fitness                                                  0.485251  \n",
       "std_fitness                                                        0.0  \n",
       "\n",
       "[10 rows x 1000 columns]"
      ]
     },
     "execution_count": 7,
     "metadata": {},
     "output_type": "execute_result"
    }
   ],
   "source": []
  }
 ],
 "metadata": {
  "kernelspec": {
   "display_name": "Python 3 (ipykernel)",
   "language": "python",
   "name": "python3"
  },
  "language_info": {
   "codemirror_mode": {
    "name": "ipython",
    "version": 3
   },
   "file_extension": ".py",
   "mimetype": "text/x-python",
   "name": "python",
   "nbconvert_exporter": "python",
   "pygments_lexer": "ipython3",
   "version": "3.9.12"
  }
 },
 "nbformat": 4,
 "nbformat_minor": 5
}
