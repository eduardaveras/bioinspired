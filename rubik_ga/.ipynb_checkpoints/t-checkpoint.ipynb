{
 "cells": [
  {
   "cell_type": "code",
   "execution_count": 1,
   "metadata": {},
   "outputs": [
    {
     "data": {
      "text/plain": [
       "array([[138, 113, 187],\n",
       "       [117, 115, 117],\n",
       "       [119,  91,  67]], dtype=uint8)"
      ]
     },
     "metadata": {},
     "output_type": "display_data"
    },
    {
     "ename": "NameError",
     "evalue": "name 'cube' is not defined",
     "output_type": "error",
     "traceback": [
      "\u001b[0;31m---------------------------------------------------------------------------\u001b[0m",
      "\u001b[0;31mNameError\u001b[0m                                 Traceback (most recent call last)",
      "Cell \u001b[0;32mIn[1], line 8\u001b[0m\n\u001b[1;32m      5\u001b[0m gray_cubes \u001b[38;5;241m=\u001b[39m gray_image_to_cubes(image_gray)\n\u001b[1;32m      7\u001b[0m display(gray_cubes[\u001b[38;5;241m3\u001b[39m][\u001b[38;5;241m5\u001b[39m])\n\u001b[0;32m----> 8\u001b[0m v \u001b[38;5;241m=\u001b[39m gray_cubes[\u001b[38;5;241m3\u001b[39m][\u001b[38;5;241m5\u001b[39m] \u001b[38;5;241m-\u001b[39m \u001b[43mcube\u001b[49m\u001b[38;5;241m.\u001b[39mfront_face(gray\u001b[38;5;241m=\u001b[39m\u001b[38;5;28;01mTrue\u001b[39;00m)\n\u001b[1;32m      9\u001b[0m v\n",
      "\u001b[0;31mNameError\u001b[0m: name 'cube' is not defined"
     ]
    }
   ],
   "source": [
    "from cube import Cube\n",
    "from image_utils import *\n",
    "image = load_image('images/cabeca-gatinha-b.png')\n",
    "image_gray = image_to_gray_pixels(image, 600, 10)\n",
    "gray_cubes = gray_image_to_cubes(image_gray)\n",
    "\n",
    "target_cube = gray_cubes[3][5]\n",
    "cube = Cube(target_cube)\n",
    "v = gray_cubes[3][5] - cube.front_face(gray=True)\n",
    "v\n",
    "\n",
    "# cube = Cube()\n",
    "# cube.front_face(True)"
   ]
  },
  {
   "cell_type": "code",
   "execution_count": null,
   "metadata": {},
   "outputs": [],
   "source": []
  }
 ],
 "metadata": {
  "kernelspec": {
   "display_name": "Python 3 (ipykernel)",
   "language": "python",
   "name": "python3"
  },
  "language_info": {
   "codemirror_mode": {
    "name": "ipython",
    "version": 3
   },
   "file_extension": ".py",
   "mimetype": "text/x-python",
   "name": "python",
   "nbconvert_exporter": "python",
   "pygments_lexer": "ipython3",
   "version": "3.11.4"
  }
 },
 "nbformat": 4,
 "nbformat_minor": 2
}
