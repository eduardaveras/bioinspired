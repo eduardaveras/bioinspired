{
 "cells": [
  {
   "cell_type": "code",
   "execution_count": null,
   "metadata": {},
   "outputs": [],
   "source": []
  },
  {
   "cell_type": "code",
   "execution_count": 2,
   "metadata": {},
   "outputs": [
    {
     "data": {
      "image/png": "[encoded data removed]",
      "text/plain": [
       "<IPython.core.display.Image object>"
      ]
     },
     "metadata": {},
     "output_type": "display_data"
    }
   ],
   "source": [
    "import imageio\n",
    "from image_utils import display_image, image_gray_to_image_cubes_color\n",
    "from cube import Cube  # Substitua pelo import correto do seu módulo Cube\n",
    "import numpy as np\n",
    "from typing import List\n",
    "\n",
    "def cube_to_animation(target_cube, moves, filename=\"cube_moves\", fixedFace=None):\n",
    "    cube = Cube(np.zeros((3, 3, 3)), move_history=[\"x\"], fixedFace=fixedFace)\n",
    "    frames = []\n",
    "    initial_image = image_gray_to_image_cubes_color(cube.image(150))\n",
    "    frames.append(initial_image)\n",
    "\n",
    "    for move in moves:\n",
    "        cube.execute([move])\n",
    "        img = image_gray_to_image_cubes_color(cube.image(150))\n",
    "        frames.append(img)\n",
    "\n",
    "    frames = [imageio.imread(frame) if not isinstance(frame, np.ndarray) else frame for frame in frames]\n",
    "    imageio.mimsave('images/' + filename + '.gif', frames, duration=0.5, loop=0)\n",
    "\n",
    "cube_to_animation(np.zeros((3,3,3)), [\"x\", \"y\", \"z\"], \"cube_moves\")\n",
    "\n",
    "\n",
    "from IPython.display import display, Image\n",
    "with open('images/cube_moves.gif', 'rb') as f:\n",
    "    display(Image(data=f.read(), format='png'))\n"
   ]
  },
  {
   "cell_type": "code",
   "execution_count": 1,
   "metadata": {},
   "outputs": [
    {
     "name": "stdout",
     "output_type": "stream",
     "text": [
      "0,0- Generations 0- Fitness: 0.0\n",
      "0,1- Generations 20- Fitness: 0.12586037364798427\n",
      "0,2- Generations 20- Fitness: 0.05211406096361849\n",
      "0,3- Generations 0- Fitness: 0.0\n",
      "0,4- Generations 0- Fitness: 0.0\n",
      "0,5- Generations 0- Fitness: 0.0\n",
      "0,6- Generations 0- Fitness: 0.0\n",
      "0,7- Generations 0- Fitness: 0.0\n",
      "0,8- Generations 0- Fitness: 0.0\n",
      "0,9- Generations 0- Fitness: 0.0\n",
      "1,0- Generations 0- Fitness: 0.0\n",
      "1,1- Generations 20- Fitness: 0.06686332350049164\n",
      "1,2- Generations 20- Fitness: 0.061946902654867256\n",
      "1,3- Generations 20- Fitness: 0.011799410029498525\n",
      "1,4- Generations 20- Fitness: 0.014257620452310717\n",
      "1,5- Generations 20- Fitness: 0.04031465093411996\n",
      "1,6- Generations 20- Fitness: 0.063913470993117\n",
      "1,7- Generations 20- Fitness: 0.1160275319567355\n",
      "1,8- Generations 20- Fitness: 0.05211406096361849\n",
      "1,9- Generations 0- Fitness: 0.0\n",
      "2,0- Generations 0- Fitness: 0.0\n",
      "2,1- Generations 20- Fitness: 0.024090462143559487\n",
      "2,2- Generations 20- Fitness: 0.0471976401179941\n",
      "2,3- Generations 20- Fitness: 0.09636184857423795\n",
      "2,4- Generations 20- Fitness: 0.05260570304818092\n",
      "2,5- Generations 20- Fitness: 0.04031465093411996\n",
      "2,6- Generations 20- Fitness: 0.061946902654867256\n",
      "2,7- Generations 20- Fitness: 0.04768928220255654\n",
      "2,8- Generations 0- Fitness: 0.0\n",
      "2,9- Generations 0- Fitness: 0.0\n",
      "3,0- Generations 0- Fitness: 0.0\n",
      "3,1- Generations 20- Fitness: 0.10029498525073746\n",
      "3,2- Generations 20- Fitness: 0.035889872173058016\n",
      "3,3- Generations 20- Fitness: 0.06637168141592921\n",
      "3,4- Generations 20- Fitness: 0.07030481809242871\n",
      "3,5- Generations 20- Fitness: 0.0471976401179941\n",
      "3,6- Generations 20- Fitness: 0.09685349065880039\n",
      "3,7- Generations 20- Fitness: 0.07079646017699115\n",
      "3,8- Generations 20- Fitness: 0.05211406096361849\n",
      "3,9- Generations 0- Fitness: 0.0\n",
      "4,0- Generations 0- Fitness: 0.0\n",
      "4,1- Generations 20- Fitness: 0.04768928220255654\n",
      "4,2- Generations 20- Fitness: 0.04031465093411996\n",
      "4,3- Generations 20- Fitness: 0.035889872173058016\n",
      "4,4- Generations 20- Fitness: 0.04768928220255654\n",
      "4,5- Generations 20- Fitness: 0.024090462143559487\n",
      "4,6- Generations 20- Fitness: 0.04965585054080629\n",
      "4,7- Generations 0- Fitness: 0.0\n",
      "4,8- Generations 0- Fitness: 0.0\n",
      "4,9- Generations 0- Fitness: 0.0\n",
      "5,0- Generations 0- Fitness: 0.0\n",
      "5,1- Generations 20- Fitness: 0.011799410029498525\n",
      "5,2- Generations 20- Fitness: 0.011799410029498525\n",
      "5,3- Generations 0- Fitness: 0.0\n",
      "5,4- Generations 20- Fitness: 0.023107177974434612\n",
      "5,5- Generations 20- Fitness: 0.023107177974434612\n",
      "5,6- Generations 20- Fitness: 0.048180924287118974\n",
      "5,7- Generations 20- Fitness: 0.04768928220255654\n",
      "5,8- Generations 0- Fitness: 0.0\n",
      "5,9- Generations 0- Fitness: 0.0\n",
      "6,0- Generations 0- Fitness: 0.0\n",
      "6,1- Generations 20- Fitness: 0.08505408062930186\n",
      "6,2- Generations 0- Fitness: 0.0\n",
      "6,3- Generations 20- Fitness: 0.024090462143559487\n",
      "6,4- Generations 20- Fitness: 0.024090462143559487\n",
      "6,5- Generations 0- Fitness: 0.0\n",
      "6,6- Generations 20- Fitness: 0.035398230088495575\n",
      "6,7- Generations 20- Fitness: 0.014257620452310717\n",
      "6,8- Generations 20- Fitness: 0.037856440511307765\n",
      "6,9- Generations 0- Fitness: 0.0\n",
      "7,0- Generations 0- Fitness: 0.0\n",
      "7,1- Generations 20- Fitness: 0.05211406096361849\n",
      "7,2- Generations 20- Fitness: 0.02359882005899705\n",
      "7,3- Generations 0- Fitness: 0.0\n",
      "7,4- Generations 20- Fitness: 0.02359882005899705\n",
      "7,5- Generations 20- Fitness: 0.011799410029498525\n",
      "7,6- Generations 0- Fitness: 0.0\n",
      "7,7- Generations 20- Fitness: 0.05211406096361849\n",
      "7,8- Generations 20- Fitness: 0.037856440511307765\n",
      "7,9- Generations 0- Fitness: 0.0\n",
      "8,0- Generations 0- Fitness: 0.0\n",
      "8,1- Generations 0- Fitness: 0.0\n",
      "8,2- Generations 20- Fitness: 0.037856440511307765\n",
      "8,3- Generations 20- Fitness: 0.011799410029498525\n",
      "8,4- Generations 20- Fitness: 0.035398230088495575\n",
      "8,5- Generations 20- Fitness: 0.011799410029498525\n",
      "8,6- Generations 20- Fitness: 0.02359882005899705\n",
      "8,7- Generations 20- Fitness: 0.014257620452310717\n",
      "8,8- Generations 0- Fitness: 0.0\n",
      "8,9- Generations 0- Fitness: 0.0\n",
      "9,0- Generations 0- Fitness: 0.0\n",
      "9,1- Generations 0- Fitness: 0.0\n",
      "9,2- Generations 20- Fitness: 0.035398230088495575\n",
      "9,3- Generations 0- Fitness: 0.0\n",
      "9,4- Generations 0- Fitness: 0.0\n",
      "9,5- Generations 0- Fitness: 0.0\n",
      "9,6- Generations 20- Fitness: 0.037856440511307765\n",
      "9,7- Generations 20- Fitness: 0.05211406096361849\n",
      "9,8- Generations 0- Fitness: 0.0\n",
      "9,9- Generations 0- Fitness: 0.0\n"
     ]
    }
   ],
   "source": [
    "import ga \n",
    "import cube\n",
    "import numpy as np\n",
    "\n",
    "cti = ga.cubesToImage(n_cubes_x=10)\n",
    "args = {\n",
    "    \"population_size\": 500,\n",
    "    \"mutation_rate\": 0.9,\n",
    "    \"crossover_rate\": 0.3,\n",
    "    \"max_generations\": 20,\n",
    "    \"parent_pool_size\": 10,\n",
    "    \"parents_number\":  4\n",
    "}\n",
    "\n",
    "cti.run(args, filename=\"olha\")\n"
   ]
  },
  {
   "cell_type": "code",
   "execution_count": 3,
   "metadata": {},
   "outputs": [
    {
     "data": {
      "image/png": "[encoded data removed]",
      "text/plain": [
       "<PIL.Image.Image image mode=RGB size=300x300>"
      ]
     },
     "metadata": {},
     "output_type": "display_data"
    }
   ],
   "source": [
    "display_image(cti.best_image(1, 10, 40))\n"
   ]
  },
  {
   "cell_type": "code",
   "execution_count": null,
   "metadata": {},
   "outputs": [],
   "source": [
    "cti.cube_to"
   ]
  }
 ],
 "metadata": {
  "kernelspec": {
   "display_name": "base",
   "language": "python",
   "name": "python3"
  },
  "language_info": {
   "codemirror_mode": {
    "name": "ipython",
    "version": 3
   },
   "file_extension": ".py",
   "mimetype": "text/x-python",
   "name": "python",
   "nbconvert_exporter": "python",
   "pygments_lexer": "ipython3",
   "version": "3.9.12"
  },
  "orig_nbformat": 4
 },
 "nbformat": 4,
 "nbformat_minor": 2
}
