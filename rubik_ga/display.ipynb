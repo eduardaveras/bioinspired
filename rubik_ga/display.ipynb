{
 "cells": [
  {
   "cell_type": "code",
   "execution_count": 8,
   "metadata": {},
   "outputs": [
    {
     "data": {
      "image/png": "[encoded data removed]",
      "text/plain": [
       "<PIL.Image.Image image mode=RGB size=300x300>"
      ]
     },
     "metadata": {},
     "output_type": "display_data"
    }
   ],
   "source": [
    "import ga \n",
    "import cube\n",
    "import numpy as np\n",
    "import image_utils\n",
    "\n",
    "path = \"images/Nicolas_Cage_Deauville_2013.jpg\"\n",
    "cti = ga.cubesToImage(n_cubes_x=15, target_image_path=path)\n",
    "display_image(image_utils.image_gray_to_image_cubes_color(image_utils.resize_pixeled(cti.target_gray_nearest, 300)))"
   ]
  },
  {
   "cell_type": "code",
   "execution_count": 2,
   "metadata": {},
   "outputs": [
    {
     "ename": "AttributeError",
     "evalue": "'int' object has no attribute 'get_best'",
     "output_type": "error",
     "traceback": [
      "\u001b[0;31m---------------------------------------------------------------------------\u001b[0m",
      "\u001b[0;31mAttributeError\u001b[0m                            Traceback (most recent call last)",
      "\u001b[1;32m/Users/marc/Repos/bioinspired/rubik_ga/display.ipynb Cell 3\u001b[0m line \u001b[0;36m2\n\u001b[1;32m      <a href='vscode-notebook-cell:/Users/marc/Repos/bioinspired/rubik_ga/display.ipynb#W3sZmlsZQ%3D%3D?line=0'>1</a>\u001b[0m \u001b[39mfrom\u001b[39;00m \u001b[39mimage_utils\u001b[39;00m \u001b[39mimport\u001b[39;00m display_image\n\u001b[0;32m----> <a href='vscode-notebook-cell:/Users/marc/Repos/bioinspired/rubik_ga/display.ipynb#W3sZmlsZQ%3D%3D?line=1'>2</a>\u001b[0m display_image(cti\u001b[39m.\u001b[39;49mbest_image(\u001b[39m1\u001b[39;49m, \u001b[39m10\u001b[39;49m, \u001b[39m40\u001b[39;49m))\n",
      "File \u001b[0;32m~/Repos/bioinspired/rubik_ga/ga.py:83\u001b[0m, in \u001b[0;36mcubesToImage.best_image\u001b[0;34m(self, stroke_width, size_multiply, border)\u001b[0m\n\u001b[1;32m     81\u001b[0m \u001b[39mfor\u001b[39;00m i \u001b[39min\u001b[39;00m \u001b[39mrange\u001b[39m(\u001b[39mself\u001b[39m\u001b[39m.\u001b[39mn_cubes_x):\n\u001b[1;32m     82\u001b[0m     \u001b[39mfor\u001b[39;00m j \u001b[39min\u001b[39;00m \u001b[39mrange\u001b[39m(\u001b[39mself\u001b[39m\u001b[39m.\u001b[39mn_cubes_x):\n\u001b[0;32m---> 83\u001b[0m         final_cubes[i][j] \u001b[39m=\u001b[39m \u001b[39mself\u001b[39;49m\u001b[39m.\u001b[39;49mgas[i][j]\u001b[39m.\u001b[39;49mget_best()\u001b[39m.\u001b[39mimage()\n\u001b[1;32m     85\u001b[0m \u001b[39mreturn\u001b[39;00m image_gray_to_image_cubes_color(cubes_to_image(final_cubes, stroke_width, size_multiply, border))\n",
      "\u001b[0;31mAttributeError\u001b[0m: 'int' object has no attribute 'get_best'"
     ]
    }
   ],
   "source": [
    "args = {\n",
    "    \"population_size\": 500,\n",
    "    \"mutation_rate\": 0.9,\n",
    "    \"crossover_rate\": 0.4,\n",
    "    \"max_generations\": 2000,\n",
    "    \"parent_pool_size\": 10,\n",
    "    \"parents_number\":  4\n",
    "}\n",
    "cti.run(args)"
   ]
  },
  {
   "cell_type": "code",
   "execution_count": null,
   "metadata": {},
   "outputs": [],
   "source": [
    "cti.cube_to"
   ]
  }
 ],
 "metadata": {
  "kernelspec": {
   "display_name": "base",
   "language": "python",
   "name": "python3"
  },
  "language_info": {
   "codemirror_mode": {
    "name": "ipython",
    "version": 3
   },
   "file_extension": ".py",
   "mimetype": "text/x-python",
   "name": "python",
   "nbconvert_exporter": "python",
   "pygments_lexer": "ipython3",
   "version": "3.9.12"
  },
  "orig_nbformat": 4
 },
 "nbformat": 4,
 "nbformat_minor": 2
}
