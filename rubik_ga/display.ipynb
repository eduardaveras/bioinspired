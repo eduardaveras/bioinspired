{
 "cells": [
  {
   "cell_type": "code",
   "execution_count": null,
   "metadata": {},
   "outputs": [],
   "source": []
  },
  {
   "cell_type": "code",
   "execution_count": 3,
   "metadata": {},
   "outputs": [
    {
     "data": {
      "image/png": "[encoded data removed]",
      "text/plain": [
       "<IPython.core.display.Image object>"
      ]
     },
     "metadata": {},
     "output_type": "display_data"
    }
   ],
   "source": [
    "import imageio\n",
    "from image_utils import display_image\n",
    "from cube import Cube  # Substitua pelo import correto do seu módulo Cube\n",
    "import numpy as np\n",
    "from typing import List\n",
    "\n",
    "def cube_to_gif(target_cube, moves, filename=\"cube_moves\", fixedFace=None):\n",
    "    cube = Cube(np.zeros((3, 3, 3)), move_history=[\"x\"], fixedFace=fixedFace)\n",
    "    frames = []\n",
    "    initial_image = cube.image(150)\n",
    "    frames.append(initial_image)\n",
    "\n",
    "    for move in moves:\n",
    "        cube.execute([move])\n",
    "        img = cube.image(150)\n",
    "        frames.append(img)\n",
    "\n",
    "    frames = [imageio.imread(frame) if not isinstance(frame, np.ndarray) else frame for frame in frames]\n",
    "    imageio.mimsave('images/' + filename + '.gif', frames, duration=0.5, loop=0)\n",
    "\n",
    "cube_to_gif(np.zeros((3,3,3)), [\"x\", \"y\", \"z\"], \"cube_moves\")\n",
    "\n",
    "from IPython.display import display, Image\n",
    "with open('images/cube_moves.gif', 'rb') as f:\n",
    "    display(Image(data=f.read(), format='png'))\n"
   ]
  }
 ],
 "metadata": {
  "kernelspec": {
   "display_name": "base",
   "language": "python",
   "name": "python3"
  },
  "language_info": {
   "codemirror_mode": {
    "name": "ipython",
    "version": 3
   },
   "file_extension": ".py",
   "mimetype": "text/x-python",
   "name": "python",
   "nbconvert_exporter": "python",
   "pygments_lexer": "ipython3",
   "version": "3.9.12"
  },
  "orig_nbformat": 4
 },
 "nbformat": 4,
 "nbformat_minor": 2
}
