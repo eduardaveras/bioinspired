{
 "cells": [
  {
   "cell_type": "code",
   "execution_count": null,
   "metadata": {},
   "outputs": [],
   "source": []
  },
  {
   "cell_type": "code",
   "execution_count": null,
   "metadata": {},
   "outputs": [],
   "source": [
    "import imageio\n",
    "from image_utils import display_image\n",
    "from cube import Cube  # Substitua pelo import correto do seu módulo Cube\n",
    "import numpy as np\n",
    "from typing import List\n",
    "\n",
    "def cubes_to_gif(target_cube, cubes_and_moves, filename=\"cube_moves\", fixedFace=None):\n",
    "    frames = []\n",
    "    initial_image = cube.image(150)\n",
    "    frames.append(initial_image)\n",
    "\n",
    "    for move in moves:\n",
    "        cube = Cube(np.zeros((3, 3, 3)), move_history=[\"x\"])\n",
    "        for move in moves:\n",
    "            cube.execute([move])\n",
    "            img = cube.image(150)\n",
    "            frames.append(img)\n",
    "\n",
    "    frames = [imageio.imread(frame) if not isinstance(frame, np.ndarray) else frame for frame in frames]\n",
    "    imageio.mimsave('images/' + filename + '.gif', frames, duration=0.5, loop=0)\n",
    "\n",
    "def cube_to_gif(target_cube, moves, filename=\"cube_moves\", fixedFace=None):\n",
    "    cube = Cube(np.zeros((3, 3, 3)), move_history=[\"x\"], fixedFace=fixedFace)\n",
    "    frames = []\n",
    "    initial_image = cube.image(150)\n",
    "    frames.append(initial_image)\n",
    "\n",
    "    for move in moves:\n",
    "        cube.execute([move])\n",
    "        img = cube.image(150)\n",
    "        frames.append(img)\n",
    "\n",
    "    frames = [imageio.imread(frame) if not isinstance(frame, np.ndarray) else frame for frame in frames]\n",
    "    imageio.mimsave('images/' + filename + '.gif', frames, duration=0.5, loop=0)\n",
    "\n",
    "cube_to_gif(np.zeros((3,3,3)), [\"x\", \"y\", \"z\"], \"cube_moves\")\n",
    "\n",
    "from IPython.display import display, Image\n",
    "with open('images/cube_moves.gif', 'rb') as f:\n",
    "    display(Image(data=f.read(), format='png'))\n"
   ]
  },
  {
   "cell_type": "code",
   "execution_count": 17,
   "metadata": {},
   "outputs": [
    {
     "name": "stderr",
     "output_type": "stream",
     "text": [
      "/Users/marc/Repos/bioinspired/rubik_ga/cube.py:78: FutureWarning: elementwise comparison failed; returning scalar instead, but in the future will perform elementwise comparison\n",
      "  if move_history == []:\n"
     ]
    },
    {
     "name": "stdout",
     "output_type": "stream",
     "text": [
      "1000 0.026057030481809244\n",
      "1000 0.061946902654867256\n",
      "1000 0.028515240904621434\n",
      "1000 0.05211406096361849\n",
      "1000 0.026057030481809244\n",
      "1000 0.048180924287118974\n",
      "1000 0.0752212389380531\n",
      "1000 0.028515240904621434\n",
      "1000 0.061455260570304815\n",
      "1000 0.014257620452310717\n",
      "1000 0.07374631268436578\n",
      "1000 0.02359882005899705\n",
      "1000 0.023107177974434612\n",
      "1000 0.05014749262536873\n",
      "144 0.0\n",
      "1000 0.063913470993117\n",
      "1000 0.02359882005899705\n",
      "12 0.0\n",
      "1000 0.026057030481809244\n",
      "1000 0.037856440511307765\n",
      "0 0.0\n",
      "0 0.0\n",
      "1000 0.014257620452310717\n",
      "1000 0.037856440511307765\n",
      "0 0.0\n"
     ]
    }
   ],
   "source": [
    "import ga \n",
    "import cube\n",
    "import numpy as np\n",
    "\n",
    "cti = ga.cubesToImage()\n",
    "args = {\n",
    "    \"population_size\": 100,\n",
    "    \"mutation_rate\": 0.9,\n",
    "    \"crossover_rate\": 0.3,\n",
    "    \"max_generations\": 1000,\n",
    "    \"parent_pool_size\": 10,\n",
    "    \"parents_number\":  4\n",
    "}\n",
    "\n",
    "# display(cti.n_cubes_x**2)\n",
    "gas = np.zeros((cti.n_cubes_x, cti.n_cubes_x), dtype=object)\n",
    "cubes_and_moves = np.zeros((cti.n_cubes_x, cti.n_cubes_x), dtype=tuple)\n",
    "for i in range(cti.n_cubes_x):\n",
    "    for j in range(cti.n_cubes_x):\n",
    "        gas[i][j] = cube.cube_GA(cti.target_cubes[i][j], **args)\n",
    "        gas[i][j].run()\n",
    "        print(gas[i][j].generation, gas[i][j].get_best().fitness)\n",
    "\n"
   ]
  },
  {
   "cell_type": "code",
   "execution_count": 15,
   "metadata": {},
   "outputs": [
    {
     "data": {
      "image/png": "[encoded data removed]",
      "text/plain": [
       "<PIL.Image.Image image mode=RGB size=250x250>"
      ]
     },
     "metadata": {},
     "output_type": "display_data"
    },
    {
     "data": {
      "image/png": "[encoded data removed]",
      "text/plain": [
       "<PIL.Image.Image image mode=RGB size=250x250>"
      ]
     },
     "metadata": {},
     "output_type": "display_data"
    },
    {
     "data": {
      "image/png": "[encoded data removed]",
      "text/plain": [
       "<PIL.Image.Image image mode=RGB size=250x250>"
      ]
     },
     "metadata": {},
     "output_type": "display_data"
    },
    {
     "data": {
      "image/png": "[encoded data removed]",
      "text/plain": [
       "<PIL.Image.Image image mode=RGB size=250x250>"
      ]
     },
     "metadata": {},
     "output_type": "display_data"
    },
    {
     "data": {
      "image/png": "[encoded data removed]",
      "text/plain": [
       "<PIL.Image.Image image mode=RGB size=250x250>"
      ]
     },
     "metadata": {},
     "output_type": "display_data"
    },
    {
     "data": {
      "image/png": "[encoded data removed]",
      "text/plain": [
       "<PIL.Image.Image image mode=RGB size=250x250>"
      ]
     },
     "metadata": {},
     "output_type": "display_data"
    },
    {
     "data": {
      "image/png": "[encoded data removed]",
      "text/plain": [
       "<PIL.Image.Image image mode=RGB size=250x250>"
      ]
     },
     "metadata": {},
     "output_type": "display_data"
    },
    {
     "data": {
      "image/png": "[encoded data removed]",
      "text/plain": [
       "<PIL.Image.Image image mode=RGB size=250x250>"
      ]
     },
     "metadata": {},
     "output_type": "display_data"
    },
    {
     "data": {
      "image/png": "[encoded data removed]",
      "text/plain": [
       "<PIL.Image.Image image mode=RGB size=250x250>"
      ]
     },
     "metadata": {},
     "output_type": "display_data"
    },
    {
     "data": {
      "image/png": "[encoded data removed]",
      "text/plain": [
       "<PIL.Image.Image image mode=RGB size=250x250>"
      ]
     },
     "metadata": {},
     "output_type": "display_data"
    },
    {
     "data": {
      "image/png": "[encoded data removed]",
      "text/plain": [
       "<PIL.Image.Image image mode=RGB size=250x250>"
      ]
     },
     "metadata": {},
     "output_type": "display_data"
    },
    {
     "data": {
      "image/png": "[encoded data removed]",
      "text/plain": [
       "<PIL.Image.Image image mode=RGB size=250x250>"
      ]
     },
     "metadata": {},
     "output_type": "display_data"
    },
    {
     "data": {
      "image/png": "[encoded data removed]",
      "text/plain": [
       "<PIL.Image.Image image mode=RGB size=250x250>"
      ]
     },
     "metadata": {},
     "output_type": "display_data"
    },
    {
     "data": {
      "image/png": "[encoded data removed]",
      "text/plain": [
       "<PIL.Image.Image image mode=RGB size=250x250>"
      ]
     },
     "metadata": {},
     "output_type": "display_data"
    },
    {
     "data": {
      "image/png": "[encoded data removed]",
      "text/plain": [
       "<PIL.Image.Image image mode=RGB size=250x250>"
      ]
     },
     "metadata": {},
     "output_type": "display_data"
    },
    {
     "data": {
      "image/png": "[encoded data removed]",
      "text/plain": [
       "<PIL.Image.Image image mode=RGB size=250x250>"
      ]
     },
     "metadata": {},
     "output_type": "display_data"
    },
    {
     "data": {
      "image/png": "[encoded data removed]",
      "text/plain": [
       "<PIL.Image.Image image mode=RGB size=250x250>"
      ]
     },
     "metadata": {},
     "output_type": "display_data"
    },
    {
     "data": {
      "image/png": "[encoded data removed]",
      "text/plain": [
       "<PIL.Image.Image image mode=RGB size=250x250>"
      ]
     },
     "metadata": {},
     "output_type": "display_data"
    },
    {
     "data": {
      "image/png": "[encoded data removed]",
      "text/plain": [
       "<PIL.Image.Image image mode=RGB size=250x250>"
      ]
     },
     "metadata": {},
     "output_type": "display_data"
    },
    {
     "data": {
      "image/png": "[encoded data removed]",
      "text/plain": [
       "<PIL.Image.Image image mode=RGB size=250x250>"
      ]
     },
     "metadata": {},
     "output_type": "display_data"
    },
    {
     "data": {
      "image/png": "[encoded data removed]",
      "text/plain": [
       "<PIL.Image.Image image mode=RGB size=250x250>"
      ]
     },
     "metadata": {},
     "output_type": "display_data"
    },
    {
     "data": {
      "image/png": "[encoded data removed]",
      "text/plain": [
       "<PIL.Image.Image image mode=RGB size=250x250>"
      ]
     },
     "metadata": {},
     "output_type": "display_data"
    },
    {
     "data": {
      "image/png": "[encoded data removed]",
      "text/plain": [
       "<PIL.Image.Image image mode=RGB size=250x250>"
      ]
     },
     "metadata": {},
     "output_type": "display_data"
    },
    {
     "data": {
      "image/png": "[encoded data removed]",
      "text/plain": [
       "<PIL.Image.Image image mode=RGB size=250x250>"
      ]
     },
     "metadata": {},
     "output_type": "display_data"
    },
    {
     "data": {
      "image/png": "[encoded data removed]",
      "text/plain": [
       "<PIL.Image.Image image mode=RGB size=250x250>"
      ]
     },
     "metadata": {},
     "output_type": "display_data"
    },
    {
     "ename": "ValueError",
     "evalue": "could not broadcast input array from shape (3,3,3) into shape (3,3)",
     "output_type": "error",
     "traceback": [
      "\u001b[0;31m---------------------------------------------------------------------------\u001b[0m",
      "\u001b[0;31mValueError\u001b[0m                                Traceback (most recent call last)",
      "\u001b[1;32m/Users/marc/Repos/bioinspired/rubik_ga/display.ipynb Cell 4\u001b[0m line \u001b[0;36m1\n\u001b[1;32m      <a href='vscode-notebook-cell:/Users/marc/Repos/bioinspired/rubik_ga/display.ipynb#W3sZmlsZQ%3D%3D?line=6'>7</a>\u001b[0m         \u001b[39m# display_image(resize_pixeled(final_cubes[i][j], 150))\u001b[39;00m\n\u001b[1;32m      <a href='vscode-notebook-cell:/Users/marc/Repos/bioinspired/rubik_ga/display.ipynb#W3sZmlsZQ%3D%3D?line=7'>8</a>\u001b[0m         \u001b[39m# display_image(cubes_to_image(cti.target_cubes[i][j]))\u001b[39;00m\n\u001b[1;32m      <a href='vscode-notebook-cell:/Users/marc/Repos/bioinspired/rubik_ga/display.ipynb#W3sZmlsZQ%3D%3D?line=8'>9</a>\u001b[0m         display_image(cubemap_to_image(cti\u001b[39m.\u001b[39mtarget_cubes[i][j]))\n\u001b[0;32m---> <a href='vscode-notebook-cell:/Users/marc/Repos/bioinspired/rubik_ga/display.ipynb#W3sZmlsZQ%3D%3D?line=10'>11</a>\u001b[0m cubes_to_image(final_cubes, \u001b[39m2\u001b[39;49m, \u001b[39m1\u001b[39;49m, \u001b[39m150\u001b[39;49m)\n\u001b[1;32m     <a href='vscode-notebook-cell:/Users/marc/Repos/bioinspired/rubik_ga/display.ipynb#W3sZmlsZQ%3D%3D?line=14'>15</a>\u001b[0m display(final_cubes[\u001b[39m0\u001b[39m][\u001b[39m0\u001b[39m]\u001b[39m.\u001b[39mshape)\n",
      "File \u001b[0;32m~/Repos/bioinspired/rubik_ga/image_utils.py:150\u001b[0m, in \u001b[0;36mcubes_to_image\u001b[0;34m(cubes, stroke_width, size_times, stroke_color)\u001b[0m\n\u001b[1;32m    146\u001b[0m             cube_times[:, \u001b[39m0\u001b[39m:stroke_width] \u001b[39m=\u001b[39m stroke_color\n\u001b[1;32m    147\u001b[0m             cube_times[:, \u001b[39m-\u001b[39mstroke_width:] \u001b[39m=\u001b[39m stroke_color\n\u001b[0;32m--> 150\u001b[0m         image[i:i\u001b[39m+\u001b[39m\u001b[39m3\u001b[39m\u001b[39m*\u001b[39msize_times, j:j\u001b[39m+\u001b[39m\u001b[39m3\u001b[39m\u001b[39m*\u001b[39msize_times] \u001b[39m=\u001b[39m cube_times\n\u001b[1;32m    151\u001b[0m         \u001b[39m# image[i_:i_+3*size_times, j_:j_+3*size_times] = cube_times\u001b[39;00m\n\u001b[1;32m    153\u001b[0m \u001b[39mreturn\u001b[39;00m image\n",
      "\u001b[0;31mValueError\u001b[0m: could not broadcast input array from shape (3,3,3) into shape (3,3)"
     ]
    }
   ],
   "source": [
    "final_cubes = np.zeros((cti.n_cubes_x, cti.n_cubes_x, 3, 3, 3), dtype=np.uint8)\n",
    "\n",
    "from image_utils import *\n",
    "for i in range(cti.n_cubes_x):\n",
    "    for j in range(cti.n_cubes_x):\n",
    "        final_cubes[i][j] = gas[i][j].get_best().image()\n",
    "\n",
    "\n",
    "cubes_to_image(final_cubes, 2, 1, 150)\n",
    "\n",
    "\n",
    "\n",
    "display(final_cubes[0][0].shape)\n",
    "# from image_utils import cubes_to_image, display_image\n",
    "# cubes_to_image(final_cubes, 1, 1, 150)\n",
    "# display_image(cubes_to_image(final_cubes, 1, 3, 150))"
   ]
  }
 ],
 "metadata": {
  "kernelspec": {
   "display_name": "base",
   "language": "python",
   "name": "python3"
  },
  "language_info": {
   "codemirror_mode": {
    "name": "ipython",
    "version": 3
   },
   "file_extension": ".py",
   "mimetype": "text/x-python",
   "name": "python",
   "nbconvert_exporter": "python",
   "pygments_lexer": "ipython3",
   "version": "3.9.12"
  },
  "orig_nbformat": 4
 },
 "nbformat": 4,
 "nbformat_minor": 2
}
