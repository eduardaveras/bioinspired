{
 "cells": [
  {
   "cell_type": "code",
   "execution_count": null,
   "metadata": {},
   "outputs": [],
   "source": []
  },
  {
   "cell_type": "code",
   "execution_count": null,
   "metadata": {},
   "outputs": [],
   "source": [
    "import imageio\n",
    "from image_utils import display_image\n",
    "from cube import Cube  # Substitua pelo import correto do seu módulo Cube\n",
    "import numpy as np\n",
    "from typing import List\n",
    "\n",
    "def cubes_to_gif(target_cube, cubes_and_moves, filename=\"cube_moves\", fixedFace=None):\n",
    "    frames = []\n",
    "    initial_image = cube.image(150)\n",
    "    frames.append(initial_image)\n",
    "\n",
    "    for move in moves:\n",
    "        cube = Cube(np.zeros((3, 3, 3)), move_history=[\"x\"])\n",
    "        for move in moves:\n",
    "            cube.execute([move])\n",
    "            img = cube.image(150)\n",
    "            frames.append(img)\n",
    "\n",
    "    frames = [imageio.imread(frame) if not isinstance(frame, np.ndarray) else frame for frame in frames]\n",
    "    imageio.mimsave('images/' + filename + '.gif', frames, duration=0.5, loop=0)\n",
    "\n",
    "def cube_to_gif(target_cube, moves, filename=\"cube_moves\", fixedFace=None):\n",
    "    cube = Cube(np.zeros((3, 3, 3)), move_history=[\"x\"], fixedFace=fixedFace)\n",
    "    frames = []\n",
    "    initial_image = cube.image(150)\n",
    "    frames.append(initial_image)\n",
    "\n",
    "    for move in moves:\n",
    "        cube.execute([move])\n",
    "        img = cube.image(150)\n",
    "        frames.append(img)\n",
    "\n",
    "    frames = [imageio.imread(frame) if not isinstance(frame, np.ndarray) else frame for frame in frames]\n",
    "    imageio.mimsave('images/' + filename + '.gif', frames, duration=0.5, loop=0)\n",
    "\n",
    "cube_to_gif(np.zeros((3,3,3)), [\"x\", \"y\", \"z\"], \"cube_moves\")\n",
    "\n",
    "from IPython.display import display, Image\n",
    "with open('images/cube_moves.gif', 'rb') as f:\n",
    "    display(Image(data=f.read(), format='png'))\n"
   ]
  },
  {
   "cell_type": "code",
   "execution_count": 13,
   "metadata": {},
   "outputs": [
    {
     "name": "stderr",
     "output_type": "stream",
     "text": [
      "/Users/marc/Repos/bioinspired/rubik_ga/cube.py:78: FutureWarning: elementwise comparison failed; returning scalar instead, but in the future will perform elementwise comparison\n",
      "  if move_history == []:\n"
     ]
    },
    {
     "name": "stdout",
     "output_type": "stream",
     "text": [
      "100 0.026057030481809244\n",
      "100 0.04031465093411996\n",
      "100 0.014257620452310717\n",
      "100 0.05211406096361849\n",
      "100 0.024090462143559487\n",
      "100 0.024090462143559487\n",
      "100 0.07128810226155359\n",
      "100 0.014257620452310717\n",
      "100 0.07571288102261553\n",
      "100 0.014257620452310717\n",
      "100 0.061946902654867256\n",
      "100 0.035398230088495575\n",
      "100 0.024090462143559487\n",
      "100 0.05014749262536873\n",
      "0 0.0\n",
      "100 0.037856440511307765\n",
      "100 0.035398230088495575\n",
      "100 0.023107177974434612\n",
      "100 0.037856440511307765\n",
      "100 0.037856440511307765\n",
      "0 0.0\n",
      "100 0.04277286135693215\n",
      "100 0.02359882005899705\n",
      "100 0.07571288102261553\n",
      "0 0.0\n"
     ]
    }
   ],
   "source": [
    "import ga \n",
    "import cube\n",
    "import numpy as np\n",
    "\n",
    "cti = ga.cubesToImage()\n",
    "args = {\n",
    "    \"population_size\": 100,\n",
    "    \"mutation_rate\": 0.9,\n",
    "    \"crossover_rate\": 0.3,\n",
    "    \"max_generations\": 100,\n",
    "    \"parent_pool_size\": 10,\n",
    "    \"parents_number\":  4\n",
    "}\n",
    "\n",
    "# display(cti.n_cubes_x**2)\n",
    "gas = np.zeros((cti.n_cubes_x, cti.n_cubes_x), dtype=object)\n",
    "cubes_and_moves = np.zeros((cti.n_cubes_x, cti.n_cubes_x), dtype=tuple)\n",
    "for i in range(cti.n_cubes_x):\n",
    "    for j in range(cti.n_cubes_x):\n",
    "        gas[i][j] = cube.cube_GA(cti.target_cubes[i][j], **args)\n",
    "        gas[i][j].run()\n",
    "        print(gas[i][j].generation, gas[i][j].get_best().fitness)\n",
    "\n"
   ]
  },
  {
   "cell_type": "code",
   "execution_count": 12,
   "metadata": {},
   "outputs": [
    {
     "data": {
      "text/plain": [
       "array([[255, 255, 178],\n",
       "       [255, 255, 178],\n",
       "       [255, 255, 178]], dtype=uint8)"
      ]
     },
     "metadata": {},
     "output_type": "display_data"
    },
    {
     "data": {
      "text/plain": [
       "array([[178, 255, 255],\n",
       "       [178, 255, 255],\n",
       "       [178, 178, 178]], dtype=uint8)"
      ]
     },
     "metadata": {},
     "output_type": "display_data"
    },
    {
     "data": {
      "text/plain": [
       "array([[255, 255, 255],\n",
       "       [255, 255, 255],\n",
       "       [178, 178, 178]], dtype=uint8)"
      ]
     },
     "metadata": {},
     "output_type": "display_data"
    },
    {
     "data": {
      "text/plain": [
       "array([[255, 255, 255],\n",
       "       [255, 255, 255],\n",
       "       [178, 178, 178]], dtype=uint8)"
      ]
     },
     "metadata": {},
     "output_type": "display_data"
    },
    {
     "data": {
      "text/plain": [
       "array([[178, 255, 255],\n",
       "       [178, 255, 255],\n",
       "       [178, 255, 255]], dtype=uint8)"
      ]
     },
     "metadata": {},
     "output_type": "display_data"
    },
    {
     "data": {
      "text/plain": [
       "array([[255, 255, 125],\n",
       "       [255, 255, 125],\n",
       "       [255, 255, 149]], dtype=uint8)"
      ]
     },
     "metadata": {},
     "output_type": "display_data"
    },
    {
     "data": {
      "text/plain": [
       "array([[ 29,  29, 125],\n",
       "       [ 29,  29, 125],\n",
       "       [178, 178, 125]], dtype=uint8)"
      ]
     },
     "metadata": {},
     "output_type": "display_data"
    },
    {
     "data": {
      "text/plain": [
       "array([[149, 149, 149],\n",
       "       [ 76,  76,  76],\n",
       "       [ 76,  76,  76]], dtype=uint8)"
      ]
     },
     "metadata": {},
     "output_type": "display_data"
    },
    {
     "data": {
      "text/plain": [
       "array([[125, 125, 125],\n",
       "       [ 76,  76,  76],\n",
       "       [149, 178, 178]], dtype=uint8)"
      ]
     },
     "metadata": {},
     "output_type": "display_data"
    },
    {
     "data": {
      "text/plain": [
       "array([[178, 255, 255],\n",
       "       [178, 255, 255],\n",
       "       [178, 255, 255]], dtype=uint8)"
      ]
     },
     "metadata": {},
     "output_type": "display_data"
    },
    {
     "data": {
      "text/plain": [
       "array([[255,  76,  76],\n",
       "       [255, 149, 149],\n",
       "       [255, 149, 149]], dtype=uint8)"
      ]
     },
     "metadata": {},
     "output_type": "display_data"
    },
    {
     "data": {
      "text/plain": [
       "array([[125, 125, 125],\n",
       "       [125, 125,  76],\n",
       "       [125, 125,  76]], dtype=uint8)"
      ]
     },
     "metadata": {},
     "output_type": "display_data"
    },
    {
     "data": {
      "text/plain": [
       "array([[125, 125, 125],\n",
       "       [ 76,  76,  76],\n",
       "       [ 76,  76,  76]], dtype=uint8)"
      ]
     },
     "metadata": {},
     "output_type": "display_data"
    },
    {
     "data": {
      "text/plain": [
       "array([[149, 149, 178],\n",
       "       [149, 149, 178],\n",
       "       [ 76,  76, 149]], dtype=uint8)"
      ]
     },
     "metadata": {},
     "output_type": "display_data"
    },
    {
     "data": {
      "text/plain": [
       "array([[178, 255, 255],\n",
       "       [178, 255, 255],\n",
       "       [178, 255, 255]], dtype=uint8)"
      ]
     },
     "metadata": {},
     "output_type": "display_data"
    },
    {
     "data": {
      "text/plain": [
       "array([[255, 255, 178],\n",
       "       [255, 255, 178],\n",
       "       [255, 255, 178]], dtype=uint8)"
      ]
     },
     "metadata": {},
     "output_type": "display_data"
    },
    {
     "data": {
      "text/plain": [
       "array([[125, 125, 125],\n",
       "       [125, 125, 125],\n",
       "       [125, 125, 125]], dtype=uint8)"
      ]
     },
     "metadata": {},
     "output_type": "display_data"
    },
    {
     "data": {
      "text/plain": [
       "array([[ 76,  76,  76],\n",
       "       [125, 125, 125],\n",
       "       [149, 178, 178]], dtype=uint8)"
      ]
     },
     "metadata": {},
     "output_type": "display_data"
    },
    {
     "data": {
      "text/plain": [
       "array([[125, 125, 125],\n",
       "       [149, 149, 149],\n",
       "       [149, 149, 149]], dtype=uint8)"
      ]
     },
     "metadata": {},
     "output_type": "display_data"
    },
    {
     "data": {
      "text/plain": [
       "array([[255, 255, 255],\n",
       "       [178, 255, 255],\n",
       "       [255, 255, 255]], dtype=uint8)"
      ]
     },
     "metadata": {},
     "output_type": "display_data"
    },
    {
     "data": {
      "text/plain": [
       "array([[255, 255, 255],\n",
       "       [255, 255, 255],\n",
       "       [255, 255, 255]], dtype=uint8)"
      ]
     },
     "metadata": {},
     "output_type": "display_data"
    },
    {
     "data": {
      "text/plain": [
       "array([[178, 125, 125],\n",
       "       [178, 125, 125],\n",
       "       [178, 125, 125]], dtype=uint8)"
      ]
     },
     "metadata": {},
     "output_type": "display_data"
    },
    {
     "data": {
      "text/plain": [
       "array([[149, 149, 149],\n",
       "       [125, 125, 125],\n",
       "       [125, 125, 125]], dtype=uint8)"
      ]
     },
     "metadata": {},
     "output_type": "display_data"
    },
    {
     "data": {
      "text/plain": [
       "array([[149, 149, 149],\n",
       "       [125, 125, 255],\n",
       "       [125, 125, 255]], dtype=uint8)"
      ]
     },
     "metadata": {},
     "output_type": "display_data"
    },
    {
     "data": {
      "text/plain": [
       "array([[255, 255, 255],\n",
       "       [255, 255, 255],\n",
       "       [255, 255, 255]], dtype=uint8)"
      ]
     },
     "metadata": {},
     "output_type": "display_data"
    },
    {
     "data": {
      "image/png": "[encoded data removed]",
      "text/plain": [
       "<PIL.Image.Image image mode=L size=75x75>"
      ]
     },
     "metadata": {},
     "output_type": "display_data"
    }
   ],
   "source": [
    "import numpy as np\n",
    "final_cubes = np.zeros((cti.n_cubes_x, cti.n_cubes_x, 3, 3), dtype=np.uint8)\n",
    "\n",
    "from image_utils import *\n",
    "for i in range(cti.n_cubes_x):\n",
    "    for j in range(cti.n_cubes_x):\n",
    "        final_cubes[i][j] = gas[i][j].get_best().image()\n",
    "        # display(final_cubes[i][j])\n",
    "\n",
    "\n",
    "display_image(cubes_to_image(final_cubes, 1, 5, 150))\n",
    "\n",
    "\n",
    "\n",
    "# display(final_cubes[0][0].shape)\n",
    "# from image_utils import cubes_to_image, display_image\n",
    "# cubes_to_image(final_cubes, 1, 1, 150)\n",
    "# display_image(cubes_to_image(final_cubes, 1, 3, 150))"
   ]
  }
 ],
 "metadata": {
  "kernelspec": {
   "display_name": "base",
   "language": "python",
   "name": "python3"
  },
  "language_info": {
   "codemirror_mode": {
    "name": "ipython",
    "version": 3
   },
   "file_extension": ".py",
   "mimetype": "text/x-python",
   "name": "python",
   "nbconvert_exporter": "python",
   "pygments_lexer": "ipython3",
   "version": "3.9.12"
  },
  "orig_nbformat": 4
 },
 "nbformat": 4,
 "nbformat_minor": 2
}
