{
 "cells": [
  {
   "cell_type": "code",
   "execution_count": 2,
   "metadata": {},
   "outputs": [
    {
     "name": "stdout",
     "output_type": "stream",
     "text": [
      "0,0- Generations 1- Fitness: 0.0\n"
     ]
    },
    {
     "ename": "KeyboardInterrupt",
     "evalue": "",
     "output_type": "error",
     "traceback": [
      "\u001b[0;31m---------------------------------------------------------------------------\u001b[0m",
      "\u001b[0;31mKeyboardInterrupt\u001b[0m                         Traceback (most recent call last)",
      "\u001b[1;32m/Users/marc/Repos/bioinspired/rubik_ga/display.ipynb Cell 1\u001b[0m line \u001b[0;36m1\n\u001b[1;32m      <a href='vscode-notebook-cell:/Users/marc/Repos/bioinspired/rubik_ga/display.ipynb#W2sZmlsZQ%3D%3D?line=4'>5</a>\u001b[0m cti \u001b[39m=\u001b[39m ga\u001b[39m.\u001b[39mcubesToImage(n_cubes_x\u001b[39m=\u001b[39m\u001b[39m10\u001b[39m)\n\u001b[1;32m      <a href='vscode-notebook-cell:/Users/marc/Repos/bioinspired/rubik_ga/display.ipynb#W2sZmlsZQ%3D%3D?line=5'>6</a>\u001b[0m args \u001b[39m=\u001b[39m {\n\u001b[1;32m      <a href='vscode-notebook-cell:/Users/marc/Repos/bioinspired/rubik_ga/display.ipynb#W2sZmlsZQ%3D%3D?line=6'>7</a>\u001b[0m     \u001b[39m\"\u001b[39m\u001b[39mpopulation_size\u001b[39m\u001b[39m\"\u001b[39m: \u001b[39m1000\u001b[39m,\n\u001b[1;32m      <a href='vscode-notebook-cell:/Users/marc/Repos/bioinspired/rubik_ga/display.ipynb#W2sZmlsZQ%3D%3D?line=7'>8</a>\u001b[0m     \u001b[39m\"\u001b[39m\u001b[39mmutation_rate\u001b[39m\u001b[39m\"\u001b[39m: \u001b[39m0.9\u001b[39m,\n\u001b[0;32m   (...)\u001b[0m\n\u001b[1;32m     <a href='vscode-notebook-cell:/Users/marc/Repos/bioinspired/rubik_ga/display.ipynb#W2sZmlsZQ%3D%3D?line=11'>12</a>\u001b[0m     \u001b[39m\"\u001b[39m\u001b[39mparents_number\u001b[39m\u001b[39m\"\u001b[39m:  \u001b[39m8\u001b[39m\n\u001b[1;32m     <a href='vscode-notebook-cell:/Users/marc/Repos/bioinspired/rubik_ga/display.ipynb#W2sZmlsZQ%3D%3D?line=12'>13</a>\u001b[0m }\n\u001b[0;32m---> <a href='vscode-notebook-cell:/Users/marc/Repos/bioinspired/rubik_ga/display.ipynb#W2sZmlsZQ%3D%3D?line=14'>15</a>\u001b[0m cti\u001b[39m.\u001b[39;49mrun(args, filename\u001b[39m=\u001b[39;49m\u001b[39m\"\u001b[39;49m\u001b[39molha\u001b[39;49m\u001b[39m\"\u001b[39;49m)\n",
      "File \u001b[0;32m~/Repos/bioinspired/rubik_ga/ga.py:38\u001b[0m, in \u001b[0;36mcubesToImage.run\u001b[0;34m(self, args, filename)\u001b[0m\n\u001b[1;32m     36\u001b[0m \u001b[39mfor\u001b[39;00m j \u001b[39min\u001b[39;00m \u001b[39mrange\u001b[39m(\u001b[39mself\u001b[39m\u001b[39m.\u001b[39mn_cubes_x):\n\u001b[1;32m     37\u001b[0m     \u001b[39mself\u001b[39m\u001b[39m.\u001b[39mgas[i][j] \u001b[39m=\u001b[39m cb\u001b[39m.\u001b[39mcube_GA(\u001b[39mself\u001b[39m\u001b[39m.\u001b[39mtarget_cubes[i][j], \u001b[39m*\u001b[39m\u001b[39m*\u001b[39margs)\n\u001b[0;32m---> 38\u001b[0m     \u001b[39mself\u001b[39;49m\u001b[39m.\u001b[39;49mgas[i][j]\u001b[39m.\u001b[39;49mrun()\n\u001b[1;32m     39\u001b[0m     gen \u001b[39m=\u001b[39m \u001b[39mself\u001b[39m\u001b[39m.\u001b[39mgas[i][j]\u001b[39m.\u001b[39mgeneration\n\u001b[1;32m     40\u001b[0m     \u001b[39mself\u001b[39m\u001b[39m.\u001b[39mbests[i][j] \u001b[39m=\u001b[39m \u001b[39mself\u001b[39m\u001b[39m.\u001b[39mgas[i][j]\u001b[39m.\u001b[39mgeneration_info[gen]\n",
      "File \u001b[0;32m~/Repos/bioinspired/rubik_ga/cube.py:254\u001b[0m, in \u001b[0;36mcube_GA.run\u001b[0;34m(self, verbose, animate)\u001b[0m\n\u001b[1;32m    252\u001b[0m \u001b[39mself\u001b[39m\u001b[39m.\u001b[39minit_info()\n\u001b[1;32m    253\u001b[0m \u001b[39mself\u001b[39m\u001b[39m.\u001b[39mparents \u001b[39m=\u001b[39m \u001b[39mself\u001b[39m\u001b[39m.\u001b[39mtournament()\n\u001b[0;32m--> 254\u001b[0m \u001b[39mself\u001b[39m\u001b[39m.\u001b[39mchildren \u001b[39m=\u001b[39m \u001b[39mself\u001b[39;49m\u001b[39m.\u001b[39;49mgenerate_children()\n\u001b[1;32m    256\u001b[0m \u001b[39mfor\u001b[39;00m child \u001b[39min\u001b[39;00m \u001b[39mself\u001b[39m\u001b[39m.\u001b[39mchildren:\n\u001b[1;32m    257\u001b[0m     \u001b[39mif\u001b[39;00m chance(\u001b[39mself\u001b[39m\u001b[39m.\u001b[39mmutation_rate):\n",
      "File \u001b[0;32m~/Repos/bioinspired/rubik_ga/cube.py:237\u001b[0m, in \u001b[0;36mcube_GA.generate_children\u001b[0;34m(self, crossover_rate)\u001b[0m\n\u001b[1;32m    235\u001b[0m \u001b[39mfor\u001b[39;00m pair \u001b[39min\u001b[39;00m parent_pairs:\n\u001b[1;32m    236\u001b[0m     \u001b[39mif\u001b[39;00m chance(crossover_rate):\n\u001b[0;32m--> 237\u001b[0m         child_pair \u001b[39m=\u001b[39m pair[\u001b[39m0\u001b[39;49m]\u001b[39m.\u001b[39;49mcrossover_with(pair[\u001b[39m1\u001b[39;49m])\n\u001b[1;32m    238\u001b[0m         children\u001b[39m.\u001b[39mappend(child_pair[\u001b[39m0\u001b[39m])\n\u001b[1;32m    239\u001b[0m         children\u001b[39m.\u001b[39mappend(child_pair[\u001b[39m1\u001b[39m])\n",
      "File \u001b[0;32m~/Repos/bioinspired/rubik_ga/cube.py:116\u001b[0m, in \u001b[0;36mCube.crossover_with\u001b[0;34m(self, other)\u001b[0m\n\u001b[1;32m    113\u001b[0m _dna \u001b[39m=\u001b[39m (\u001b[39mself\u001b[39m\u001b[39m.\u001b[39mmove_history[_cut_point:], \u001b[39mself\u001b[39m\u001b[39m.\u001b[39mmove_history[:_cut_point])\n\u001b[1;32m    114\u001b[0m other_dna \u001b[39m=\u001b[39m (other\u001b[39m.\u001b[39mmove_history[other_cut_point:], other\u001b[39m.\u001b[39mmove_history[:other_cut_point])\n\u001b[0;32m--> 116\u001b[0m children \u001b[39m=\u001b[39m (Cube(\u001b[39mself\u001b[39;49m\u001b[39m.\u001b[39;49mtarget_gray_face, move_history\u001b[39m=\u001b[39;49mnp\u001b[39m.\u001b[39;49mconcatenate((_dna[\u001b[39m0\u001b[39;49m], other_dna[\u001b[39m1\u001b[39;49m]))),\n\u001b[1;32m    117\u001b[0m             Cube(\u001b[39mself\u001b[39m\u001b[39m.\u001b[39mtarget_gray_face, move_history\u001b[39m=\u001b[39mnp\u001b[39m.\u001b[39mconcatenate((_dna[\u001b[39m1\u001b[39m], other_dna[\u001b[39m0\u001b[39m]))))\n\u001b[1;32m    119\u001b[0m \u001b[39mreturn\u001b[39;00m children\n",
      "File \u001b[0;32m~/Repos/bioinspired/rubik_ga/cube.py:21\u001b[0m, in \u001b[0;36mCube.__init__\u001b[0;34m(self, target_gray_face, move_history, fixedFace)\u001b[0m\n\u001b[1;32m     18\u001b[0m \u001b[39mself\u001b[39m\u001b[39m.\u001b[39moutput \u001b[39m=\u001b[39m \u001b[39m\"\u001b[39m\u001b[39m\"\u001b[39m\n\u001b[1;32m     19\u001b[0m \u001b[39mself\u001b[39m\u001b[39m.\u001b[39mfixedFace \u001b[39m=\u001b[39m fixedFace\n\u001b[0;32m---> 21\u001b[0m \u001b[39mself\u001b[39;49m\u001b[39m.\u001b[39;49minit(move_history)\n",
      "File \u001b[0;32m~/Repos/bioinspired/rubik_ga/cube.py:82\u001b[0m, in \u001b[0;36mCube.init\u001b[0;34m(self, move_history, length)\u001b[0m\n\u001b[1;32m     79\u001b[0m     scramble \u001b[39m=\u001b[39m [np\u001b[39m.\u001b[39mrandom\u001b[39m.\u001b[39mchoice(SINGLE_MOVES) \u001b[39mfor\u001b[39;00m _ \u001b[39min\u001b[39;00m \u001b[39mrange\u001b[39m(length)]\n\u001b[1;32m     80\u001b[0m     move_history \u001b[39m=\u001b[39m scramble\n\u001b[0;32m---> 82\u001b[0m \u001b[39mself\u001b[39;49m\u001b[39m.\u001b[39;49madd_exec_eval(move_history)\n",
      "File \u001b[0;32m~/Repos/bioinspired/rubik_ga/cube.py:37\u001b[0m, in \u001b[0;36mCube.add_exec_eval\u001b[0;34m(self, move)\u001b[0m\n\u001b[1;32m     35\u001b[0m \u001b[39mdef\u001b[39;00m \u001b[39madd_exec_eval\u001b[39m(\u001b[39mself\u001b[39m, move):\n\u001b[1;32m     36\u001b[0m     \u001b[39mself\u001b[39m\u001b[39m.\u001b[39mmove_history \u001b[39m=\u001b[39m np\u001b[39m.\u001b[39mconcatenate((\u001b[39mself\u001b[39m\u001b[39m.\u001b[39mmove_history, move))\n\u001b[0;32m---> 37\u001b[0m     \u001b[39mself\u001b[39;49m\u001b[39m.\u001b[39;49mexecute(move)\n\u001b[1;32m     38\u001b[0m     \u001b[39mself\u001b[39m\u001b[39m.\u001b[39mevaluate_fitness()\n\u001b[1;32m     40\u001b[0m     \u001b[39mif\u001b[39;00m \u001b[39mself\u001b[39m\u001b[39m.\u001b[39mfixedFace \u001b[39mis\u001b[39;00m \u001b[39mnot\u001b[39;00m \u001b[39mNone\u001b[39;00m:\n",
      "File \u001b[0;32m~/Repos/bioinspired/rubik_ga/lib.py:40\u001b[0m, in \u001b[0;36mCube.execute\u001b[0;34m(self, moves)\u001b[0m\n\u001b[1;32m     38\u001b[0m \u001b[39mdef\u001b[39;00m \u001b[39mexecute\u001b[39m(\u001b[39mself\u001b[39m, moves: \u001b[39m'\u001b[39m\u001b[39mList\u001b[39m\u001b[39m'\u001b[39m):\n\u001b[1;32m     39\u001b[0m     \u001b[39mfor\u001b[39;00m m \u001b[39min\u001b[39;00m moves:\n\u001b[0;32m---> 40\u001b[0m         \u001b[39mself\u001b[39;49m\u001b[39m.\u001b[39;49mmoves_lookup[m]()\n",
      "File \u001b[0;32m~/Repos/bioinspired/rubik_ga/lib.py:55\u001b[0m, in \u001b[0;36mCube.D2\u001b[0;34m(self)\u001b[0m\n\u001b[1;32m     53\u001b[0m \u001b[39mdef\u001b[39;00m \u001b[39mD2\u001b[39m(\u001b[39mself\u001b[39m):\n\u001b[1;32m     54\u001b[0m     \u001b[39mself\u001b[39m\u001b[39m.\u001b[39mD()\n\u001b[0;32m---> 55\u001b[0m     \u001b[39mself\u001b[39;49m\u001b[39m.\u001b[39;49mD()\n",
      "File \u001b[0;32m~/Repos/bioinspired/rubik_ga/lib.py:47\u001b[0m, in \u001b[0;36mCube.D\u001b[0;34m(self)\u001b[0m\n\u001b[1;32m     45\u001b[0m \u001b[39mdef\u001b[39;00m \u001b[39mD\u001b[39m(\u001b[39mself\u001b[39m):\n\u001b[1;32m     46\u001b[0m     \u001b[39mself\u001b[39m\u001b[39m.\u001b[39mfaces[BOTTOM] \u001b[39m=\u001b[39m np\u001b[39m.\u001b[39mrot90(\u001b[39mself\u001b[39m\u001b[39m.\u001b[39mfaces[BOTTOM], axes\u001b[39m=\u001b[39mCLOCKWISE)\n\u001b[0;32m---> 47\u001b[0m     \u001b[39mself\u001b[39;49m\u001b[39m.\u001b[39;49m__swap_x((FRONT, \u001b[39m2\u001b[39;49m), (RIGHT, \u001b[39m2\u001b[39;49m), (BACK, \u001b[39m2\u001b[39;49m), (LEFT, \u001b[39m2\u001b[39;49m))\n",
      "File \u001b[0;32m~/Repos/bioinspired/rubik_ga/lib.py:86\u001b[0m, in \u001b[0;36mCube.__swap_x\u001b[0;34m(self, t1, t2, t3, t4)\u001b[0m\n\u001b[1;32m     79\u001b[0m \u001b[39mdef\u001b[39;00m \u001b[39m__swap_x\u001b[39m(\u001b[39mself\u001b[39m, t1, t2, t3, t4):\n\u001b[1;32m     80\u001b[0m     \u001b[39m# t1, t2, t3 and t4 are tuples\u001b[39;00m\n\u001b[1;32m     81\u001b[0m     \u001b[39m# index 0 = face\u001b[39;00m\n\u001b[1;32m     82\u001b[0m     \u001b[39m# index 1 = row index\u001b[39;00m\n\u001b[1;32m     83\u001b[0m     \u001b[39m# This means: put t1 into t2, t2 into t3, t3 into t4, t4 into t1\u001b[39;00m\n\u001b[1;32m     84\u001b[0m     \u001b[39m# we do it backwards to avoid unnecesary temporary variables\u001b[39;00m\n\u001b[1;32m     85\u001b[0m     backup \u001b[39m=\u001b[39m np\u001b[39m.\u001b[39marray([\u001b[39m\"\u001b[39m\u001b[39m\"\u001b[39m, \u001b[39m\"\u001b[39m\u001b[39m\"\u001b[39m, \u001b[39m\"\u001b[39m\u001b[39m\"\u001b[39m])\n\u001b[0;32m---> 86\u001b[0m     \u001b[39mself\u001b[39;49m\u001b[39m.\u001b[39;49m__copy_stickers(backup, \u001b[39mself\u001b[39;49m\u001b[39m.\u001b[39;49mfaces[t4[\u001b[39m0\u001b[39;49m]][t4[\u001b[39m1\u001b[39;49m]])\n\u001b[1;32m     87\u001b[0m     \u001b[39mself\u001b[39m\u001b[39m.\u001b[39m__copy_stickers(\u001b[39mself\u001b[39m\u001b[39m.\u001b[39mfaces[t4[\u001b[39m0\u001b[39m]][t4[\u001b[39m1\u001b[39m]], \u001b[39mself\u001b[39m\u001b[39m.\u001b[39mfaces[t3[\u001b[39m0\u001b[39m]][t3[\u001b[39m1\u001b[39m]])\n\u001b[1;32m     88\u001b[0m     \u001b[39mself\u001b[39m\u001b[39m.\u001b[39m__copy_stickers(\u001b[39mself\u001b[39m\u001b[39m.\u001b[39mfaces[t3[\u001b[39m0\u001b[39m]][t3[\u001b[39m1\u001b[39m]], \u001b[39mself\u001b[39m\u001b[39m.\u001b[39mfaces[t2[\u001b[39m0\u001b[39m]][t2[\u001b[39m1\u001b[39m]])\n",
      "File \u001b[0;32m~/Repos/bioinspired/rubik_ga/lib.py:93\u001b[0m, in \u001b[0;36mCube.__copy_stickers\u001b[0;34m(self, destination, origin)\u001b[0m\n\u001b[1;32m     92\u001b[0m \u001b[39mdef\u001b[39;00m \u001b[39m__copy_stickers\u001b[39m(\u001b[39mself\u001b[39m, destination, origin):\n\u001b[0;32m---> 93\u001b[0m     destination[\u001b[39m0\u001b[39m] \u001b[39m=\u001b[39m origin[\u001b[39m0\u001b[39;49m]\n\u001b[1;32m     94\u001b[0m     destination[\u001b[39m1\u001b[39m] \u001b[39m=\u001b[39m origin[\u001b[39m1\u001b[39m]\n\u001b[1;32m     95\u001b[0m     destination[\u001b[39m2\u001b[39m] \u001b[39m=\u001b[39m origin[\u001b[39m2\u001b[39m]\n",
      "\u001b[0;31mKeyboardInterrupt\u001b[0m: "
     ]
    }
   ],
   "source": [
    "import ga \n",
    "import cube\n",
    "import numpy as np\n",
    "\n",
    "cti = ga.cubesToImage(n_cubes_x=10)\n",
    "args = {\n",
    "    \"population_size\": 1000,\n",
    "    \"mutation_rate\": 0.9,\n",
    "    \"crossover_rate\": 0.4,\n",
    "    \"max_generations\": 1000,\n",
    "    \"parent_pool_size\": 10,\n",
    "    \"parents_number\":  4\n",
    "}\n",
    "\n",
    "cti.run(args, filename=\"olha\")\n"
   ]
  },
  {
   "cell_type": "code",
   "execution_count": 3,
   "metadata": {},
   "outputs": [
    {
     "data": {
      "image/png": "[encoded data removed]",
      "text/plain": [
       "<PIL.Image.Image image mode=RGB size=300x300>"
      ]
     },
     "metadata": {},
     "output_type": "display_data"
    }
   ],
   "source": [
    "display_image(cti.best_image(1, 10, 40))\n"
   ]
  },
  {
   "cell_type": "code",
   "execution_count": null,
   "metadata": {},
   "outputs": [],
   "source": [
    "cti.cube_to"
   ]
  }
 ],
 "metadata": {
  "kernelspec": {
   "display_name": "base",
   "language": "python",
   "name": "python3"
  },
  "language_info": {
   "codemirror_mode": {
    "name": "ipython",
    "version": 3
   },
   "file_extension": ".py",
   "mimetype": "text/x-python",
   "name": "python",
   "nbconvert_exporter": "python",
   "pygments_lexer": "ipython3",
   "version": "3.9.12"
  },
  "orig_nbformat": 4
 },
 "nbformat": 4,
 "nbformat_minor": 2
}
