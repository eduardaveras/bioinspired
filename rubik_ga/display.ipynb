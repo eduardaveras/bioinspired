{
 "cells": [
  {
   "cell_type": "code",
   "execution_count": null,
   "metadata": {},
   "outputs": [],
   "source": []
  },
  {
   "cell_type": "code",
   "execution_count": 10,
   "metadata": {},
   "outputs": [
    {
     "data": {
      "image/png": "[encoded data removed]",
      "text/plain": [
       "<IPython.core.display.Image object>"
      ]
     },
     "metadata": {},
     "output_type": "display_data"
    }
   ],
   "source": [
    "import imageio\n",
    "from image_utils import display_image, image_gray_to_image_cubes_color\n",
    "from cube import Cube  # Substitua pelo import correto do seu módulo Cube\n",
    "import numpy as np\n",
    "from typing import List\n",
    "\n",
    "def cube_to_animation(target_cube, moves, filename=\"cube_moves\", fixedFace=None):\n",
    "    cube = Cube(np.zeros((3, 3, 3)), move_history=[\"x\"], fixedFace=fixedFace)\n",
    "    frames = []\n",
    "    initial_image = image_gray_to_image_cubes_color(cube.image(150))\n",
    "    frames.append(initial_image)\n",
    "\n",
    "    for move in moves:\n",
    "        cube.execute([move])\n",
    "        img = image_gray_to_image_cubes_color(cube.image(150))\n",
    "        frames.append(img)\n",
    "\n",
    "    frames = [imageio.imread(frame) if not isinstance(frame, np.ndarray) else frame for frame in frames]\n",
    "    imageio.mimsave('images/' + filename + '.gif', frames, duration=0.5, loop=0)\n",
    "\n",
    "cube_to_animation(np.zeros((3,3,3)), [\"x\", \"y\", \"z\"], \"cube_moves\")\n",
    "\n",
    "\n",
    "from IPython.display import display, Image\n",
    "with open('images/cube_moves.gif', 'rb') as f:\n",
    "    display(Image(data=f.read(), format='png'))\n"
   ]
  },
  {
   "cell_type": "code",
   "execution_count": 21,
   "metadata": {},
   "outputs": [
    {
     "name": "stdout",
     "output_type": "stream",
     "text": [
      "0 0.0\n",
      "1000 0.0880039331366765\n",
      "1000 0.05211406096361849\n",
      "0 0.0\n",
      "0 0.0\n",
      "0 0.0\n",
      "0 0.0\n",
      "0 0.0\n",
      "0 0.0\n",
      "0 0.0\n",
      "0 0.0\n",
      "1000 0.024090462143559487\n",
      "1000 0.07325467059980334\n",
      "1000 0.05457227138643068\n",
      "1000 0.014257620452310717\n",
      "1000 0.04031465093411996\n",
      "1000 0.063913470993117\n",
      "1000 0.08751229105211406\n",
      "1000 0.061455260570304815\n",
      "0 0.0\n",
      "0 0.0\n",
      "1000 0.024090462143559487\n",
      "1000 0.0471976401179941\n",
      "1000 0.08505408062930186\n",
      "1000 0.049164208456243856\n",
      "1000 0.035398230088495575\n",
      "1000 0.0599803343166175\n",
      "1000 0.04768928220255654\n",
      "1000 0.035398230088495575\n",
      "0 0.0\n",
      "0 0.0\n",
      "1000 0.061946902654867256\n",
      "138 0.0\n",
      "1000 0.06637168141592921\n",
      "1000 0.07030481809242871\n",
      "1000 0.026057030481809244\n",
      "1000 0.06342182890855458\n",
      "1000 0.06588003933136677\n",
      "1000 0.014257620452310717\n",
      "0 0.0\n",
      "0 0.0\n",
      "1000 0.04768928220255654\n",
      "1000 0.026057030481809244\n",
      "1000 0.035889872173058016\n",
      "1000 0.024090462143559487\n",
      "241 0.0\n",
      "1000 0.035398230088495575\n",
      "0 0.0\n",
      "0 0.0\n",
      "0 0.0\n",
      "0 0.0\n",
      "1000 0.035398230088495575\n",
      "1000 0.011799410029498525\n",
      "0 0.0\n",
      "1000 0.023107177974434612\n",
      "1000 0.023107177974434612\n",
      "1000 0.024090462143559487\n",
      "1000 0.011799410029498525\n",
      "0 0.0\n",
      "0 0.0\n",
      "0 0.0\n",
      "1000 0.04965585054080629\n",
      "0 0.0\n",
      "1000 0.011799410029498525\n",
      "1000 0.024090462143559487\n",
      "1000 0.024090462143559487\n",
      "1000 0.035398230088495575\n",
      "1000 0.014257620452310717\n",
      "0 0.0\n",
      "0 0.0\n",
      "0 0.0\n",
      "1000 0.05211406096361849\n",
      "1000 0.02359882005899705\n",
      "1000 0.011799410029498525\n",
      "1000 0.02359882005899705\n",
      "1000 0.011799410029498525\n",
      "0 0.0\n",
      "1000 0.026057030481809244\n",
      "1000 0.037856440511307765\n",
      "0 0.0\n",
      "0 0.0\n",
      "0 0.0\n",
      "1000 0.037856440511307765\n",
      "168 0.0\n",
      "1000 0.011799410029498525\n",
      "1000 0.04031465093411996\n",
      "1000 0.02359882005899705\n",
      "1000 0.014257620452310717\n",
      "0 0.0\n",
      "0 0.0\n",
      "0 0.0\n",
      "0 0.0\n",
      "1000 0.035398230088495575\n",
      "0 0.0\n",
      "0 0.0\n",
      "0 0.0\n",
      "1000 0.04768928220255654\n",
      "1000 0.05211406096361849\n",
      "0 0.0\n",
      "0 0.0\n"
     ]
    }
   ],
   "source": [
    "import ga \n",
    "import cube\n",
    "import numpy as np\n",
    "\n",
    "cti = ga.cubesToImage(n_cubes_x=10)\n",
    "args = {\n",
    "    \"population_size\": 500,\n",
    "    \"mutation_rate\": 0.9,\n",
    "    \"crossover_rate\": 0.3,\n",
    "    \"max_generations\": 1000,\n",
    "    \"parent_pool_size\": 10,\n",
    "    \"parents_number\":  4\n",
    "}\n",
    "\n",
    "# display(cti.n_cubes_x**2)\n",
    "gas = np.zeros((cti.n_cubes_x, cti.n_cubes_x), dtype=object)\n",
    "cubes_and_moves = np.zeros((cti.n_cubes_x, cti.n_cubes_x), dtype=tuple)\n",
    "for i in range(cti.n_cubes_x):\n",
    "    for j in range(cti.n_cubes_x):\n",
    "        gas[i][j] = cube.cube_GA(cti.target_cubes[i][j], **args)\n",
    "        gas[i][j].run()\n",
    "        print(gas[i][j].generation, gas[i][j].get_best().fitness)\n",
    "\n"
   ]
  },
  {
   "cell_type": "code",
   "execution_count": 25,
   "metadata": {},
   "outputs": [
    {
     "data": {
      "image/png": "[encoded data removed]",
      "text/plain": [
       "<PIL.Image.Image image mode=RGB size=150x150>"
      ]
     },
     "metadata": {},
     "output_type": "display_data"
    }
   ],
   "source": [
    "import numpy as np\n",
    "final_cubes = np.zeros((cti.n_cubes_x, cti.n_cubes_x, 3, 3), dtype=np.uint8)\n",
    "\n",
    "from image_utils import *\n",
    "for i in range(cti.n_cubes_x):\n",
    "    for j in range(cti.n_cubes_x):\n",
    "        final_cubes[i][j] = gas[i][j].get_best().image()\n",
    "\n",
    "\n",
    "display_image(image_gray_to_image_cubes_color(cubes_to_image(final_cubes, 1, 5, 0)))\n",
    "\n",
    "\n",
    "\n",
    "# display(final_cubes[0][0].shape)\n",
    "# from image_utils import cubes_to_image, display_image\n",
    "# cubes_to_image(final_cubes, 1, 1, 150)\n",
    "# display_image(cubes_to_image(final_cubes, 1, 3, 150))"
   ]
  },
  {
   "cell_type": "code",
   "execution_count": null,
   "metadata": {},
   "outputs": [],
   "source": [
    "cti.cube_to"
   ]
  }
 ],
 "metadata": {
  "kernelspec": {
   "display_name": "base",
   "language": "python",
   "name": "python3"
  },
  "language_info": {
   "codemirror_mode": {
    "name": "ipython",
    "version": 3
   },
   "file_extension": ".py",
   "mimetype": "text/x-python",
   "name": "python",
   "nbconvert_exporter": "python",
   "pygments_lexer": "ipython3",
   "version": "3.9.12"
  },
  "orig_nbformat": 4
 },
 "nbformat": 4,
 "nbformat_minor": 2
}
